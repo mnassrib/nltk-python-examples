{
 "cells": [
  {
   "cell_type": "markdown",
   "metadata": {},
   "source": [
    "# What is NLP? and what are the benefits of learning NLP?\n",
    "\n",
    "Natural language processing (NLP) is about developing applications and services that are able to understand human languages.\n",
    "\n",
    "We are talking here about practical examples of natural language processing (NLP) like speech recognition, speech translation, understanding complete sentences, understanding synonyms of matching words, and writing complete grammatically correct sentences and paragraphs.\n",
    "\n",
    "These are some of the successful implementation of Natural Language Processing (NLP):\n",
    "\n",
    "- Search engines like Google, Yahoo, etc. Google search engine understands that you are a tech guy so it shows you results related to you.\n",
    "- Social websites feeds like Facebook news feed. The news feed algorithm understands your interests using natural language processing and shows you related Ads and posts more likely than other posts.\n",
    "- Speech engines like Apple Siri.\n",
    "- Spam filters like Google spam filters. It’s not just about the usual spam filtering, now spam filters understand what’s inside the email content and see if it’s a spam or not.\n",
    "\n",
    "There are many open source Natural Language Processing (NLP) libraries like:\n",
    "\n",
    "- Natural language toolkit (NLTK).\n",
    "- Apache OpenNLP.\n",
    "- Stanford NLP suite.\n",
    "- Gate NLP library.\n",
    "\n",
    "NLTK has been called a wonderful tool for teaching and working in computational linguistics using Python and an amazing library to play with natural language. Indeed, it is the most popular library for NLP which was written in Python and has a big community behind it. NLTK also is very easy to learn. \n",
    "\n",
    "This NLP post will use Python NLTK library. \n",
    "\n",
    "# Installing NLTK in Anaconda environment\n",
    "\n",
    "First, you need to check if NLTK is already installed in your Anaconda environment by simply typing:"
   ]
  },
  {
   "cell_type": "code",
   "execution_count": 1,
   "metadata": {},
   "outputs": [],
   "source": [
    "import nltk"
   ]
  },
  {
   "cell_type": "markdown",
   "metadata": {},
   "source": [
    "If this is not the case, then you should install this package. \n",
    "\n",
    "The instruction given below are based on the assumption that you have Anaconda installed. So, to make setup NLTK with conda run the followin via Anaconda Prompt.\n",
    "\n",
    "``conda install -c anaconda nltk``\n",
    "\n",
    "You can reverify whether the installation is accurate supplying the below command:"
   ]
  },
  {
   "cell_type": "code",
   "execution_count": 2,
   "metadata": {},
   "outputs": [],
   "source": [
    "import nltk"
   ]
  },
  {
   "cell_type": "markdown",
   "metadata": {},
   "source": [
    "# Tokenize Text Using Python\n",
    "First, we will enter the content of a web page, then we will analyze the text to see what the page is about. We will use the urllib module to explore the web page:"
   ]
  },
  {
   "cell_type": "code",
   "execution_count": 3,
   "metadata": {},
   "outputs": [
    {
     "name": "stdout",
     "output_type": "stream",
     "text": [
      "b'<!DOCTYPE html>\\n<html xmlns=\"http://www.w3.org/1999/xhtml\" lang=\"en\">\\n<head>\\n\\n  <meta charset=\"utf-8\">\\n  <meta name=\"viewport\" content=\"width=device-width, initial-scale=1.0\">\\n\\n  <title>PHP: Hypertext Preprocessor</title>\\n\\n <link rel=\"shortcut icon\" href=\"http://php.net/favicon.ico\">\\n <link rel=\"search\" type=\"application/opensearchdescription+xml\" href=\"http://php.net/phpnetimprovedsearch.src\" title=\"Add PHP.net search\">\\n <link rel=\"alternate\" type=\"application/atom+xml\" href=\"http://php.net/releases/feed.php\" title=\"PHP Release feed\">\\n <link rel=\"alternate\" type=\"application/atom+xml\" href=\"http://php.net/feed.atom\" title=\"PHP: Hypertext Preprocessor\">\\n\\n <link rel=\"canonical\" href=\"http://php.net/index.php\">\\n <link rel=\"shorturl\" href=\"http://php.net/index\">\\n <link rel=\"alternate\" href=\"http://php.net/index\" hreflang=\"x-default\">\\n\\n\\n\\n<link rel=\"stylesheet\" type=\"text/css\" href=\"/cached.php?t=1539771603&amp;f=/fonts/Fira/fira.css\" media=\"screen\">\\n<link rel=\"stylesheet\" type=\"text/css\" href=\"/cached.php?t=1539765004&amp;f=/fonts/Font-Awesome/css/fontello.css\" media=\"screen\">\\n<link rel=\"stylesheet\" type=\"text/css\" href=\"/cached.php?t=1539766202&amp;f=/styles/theme-base.css\" media=\"screen\">\\n<link rel=\"stylesheet\" type=\"text/css\" href=\"/cached.php?t=1539765004&amp;f=/styles/theme-medium.css\" media=\"screen\">\\n<link rel=\"stylesheet\" type=\"text/css\" href=\"/cached.php?t=1429259403&amp;f=/styles/home.css\" media=\"screen\">\\n\\n <!--[if lte IE 7]>\\n <link rel=\"stylesheet\" type=\"text/css\" href=\"http://php.net/styles/workarounds.ie7.css\" media=\"screen\">\\n <![endif]-->\\n\\n <!--[if lte IE 8]>\\n <script type=\"text/javascript\">\\n  window.brokenIE = true;\\n </script>\\n <![endif]-->\\n\\n <!--[if lte IE 9]>\\n <link rel=\"stylesheet\" type=\"text/css\" href=\"http://php.net/styles/workarounds.ie9.css\" media=\"screen\">\\n <![endif]-->\\n\\n <!--[if IE]>\\n <script type=\"text/javascript\" src=\"http://php.net/js/ext/html5.js\"></script>\\n <![endif]-->\\n\\n <base href=\"http://php.net/index.php\">\\n\\n</head>\\n<body class=\"home \">\\n\\n<nav id=\"head-nav\" class=\"navbar navbar-fixed-top\">\\n  <div class=\"navbar-inner clearfix\">\\n    <a href=\"/\" class=\"brand\"><img src=\"/images/logos/php-logo.svg\" width=\"48\" height=\"24\" alt=\"php\"></a>\\n    <div id=\"mainmenu-toggle-overlay\"></div>\\n    <input type=\"checkbox\" id=\"mainmenu-toggle\">\\n    <ul class=\"nav\">\\n      <li class=\"\"><a href=\"/downloads\">Downloads</a></li>\\n      <li class=\"\"><a href=\"/docs.php\">Documentation</a></li>\\n      <li class=\"\"><a href=\"/get-involved\" >Get Involved</a></li>\\n      <li class=\"\"><a href=\"/support\">Help</a></li>\\n    </ul>\\n    <form class=\"navbar-search\" id=\"topsearch\" action=\"/search.php\">\\n      <input type=\"hidden\" name=\"show\" value=\"quickref\">\\n      <input type=\"search\" name=\"pattern\" class=\"search-query\" placeholder=\"Search\" accesskey=\"s\">\\n    </form>\\n  </div>\\n  <div id=\"flash-message\"></div>\\n</nav>\\n<nav id=\"trick\"><div><dl>\\n<dt><a href=\\'/manual/en/getting-started.php\\'>Getting Started</a></dt>\\n\\t<dd><a href=\\'/manual/en/introduction.php\\'>Introduction</a></dd>\\n\\t<dd><a href=\\'/manual/en/tutorial.php\\'>A simple tutorial</a></dd>\\n<dt><a href=\\'/manual/en/langref.php\\'>Language Reference</a></dt>\\n\\t<dd><a href=\\'/manual/en/language.basic-syntax.php\\'>Basic syntax</a></dd>\\n\\t<dd><a href=\\'/manual/en/language.types.php\\'>Types</a></dd>\\n\\t<dd><a href=\\'/manual/en/language.variables.php\\'>Variables</a></dd>\\n\\t<dd><a href=\\'/manual/en/language.constants.php\\'>Constants</a></dd>\\n\\t<dd><a href=\\'/manual/en/language.expressions.php\\'>Expressions</a></dd>\\n\\t<dd><a href=\\'/manual/en/language.operators.php\\'>Operators</a></dd>\\n\\t<dd><a href=\\'/manual/en/language.control-structures.php\\'>Control Structures</a></dd>\\n\\t<dd><a href=\\'/manual/en/language.functions.php\\'>Functions</a></dd>\\n\\t<dd><a href=\\'/manual/en/language.oop5.php\\'>Classes and Objects</a></dd>\\n\\t<dd><a href=\\'/manual/en/language.namespaces.php\\'>Namespaces</a></dd>\\n\\t<dd><a href=\\'/manual/en/language.errors.php\\'>Errors</a></dd>\\n\\t<dd><a href=\\'/manual/en/language.exceptions.php\\'>Exceptions</a></dd>\\n\\t<dd><a href=\\'/manual/en/language.generators.php\\'>Generators</a></dd>\\n\\t<dd><a href=\\'/manual/en/language.references.php\\'>References Explained</a></dd>\\n\\t<dd><a href=\\'/manual/en/reserved.variables.php\\'>Predefined Variables</a></dd>\\n\\t<dd><a href=\\'/manual/en/reserved.exceptions.php\\'>Predefined Exceptions</a></dd>\\n\\t<dd><a href=\\'/manual/en/reserved.interfaces.php\\'>Predefined Interfaces and Classes</a></dd>\\n\\t<dd><a href=\\'/manual/en/context.php\\'>Context options and parameters</a></dd>\\n\\t<dd><a href=\\'/manual/en/wrappers.php\\'>Supported Protocols and Wrappers</a></dd>\\n</dl>\\n<dl>\\n<dt><a href=\\'/manual/en/security.php\\'>Security</a></dt>\\n\\t<dd><a href=\\'/manual/en/security.intro.php\\'>Introduction</a></dd>\\n\\t<dd><a href=\\'/manual/en/security.general.php\\'>General considerations</a></dd>\\n\\t<dd><a href=\\'/manual/en/security.cgi-bin.php\\'>Installed as CGI binary</a></dd>\\n\\t<dd><a href=\\'/manual/en/security.apache.php\\'>Installed as an Apache module</a></dd>\\n\\t<dd><a href=\\'/manual/en/security.sessions.php\\'>Session Security</a></dd>\\n\\t<dd><a href=\\'/manual/en/security.filesystem.php\\'>Filesystem Security</a></dd>\\n\\t<dd><a href=\\'/manual/en/security.database.php\\'>Database Security</a></dd>\\n\\t<dd><a href=\\'/manual/en/security.errors.php\\'>Error Reporting</a></dd>\\n\\t<dd><a href=\\'/manual/en/security.globals.php\\'>Using Register Globals</a></dd>\\n\\t<dd><a href=\\'/manual/en/security.variables.php\\'>User Submitted Data</a></dd>\\n\\t<dd><a href=\\'/manual/en/security.magicquotes.php\\'>Magic Quotes</a></dd>\\n\\t<dd><a href=\\'/manual/en/security.hiding.php\\'>Hiding PHP</a></dd>\\n\\t<dd><a href=\\'/manual/en/security.current.php\\'>Keeping Current</a></dd>\\n<dt><a href=\\'/manual/en/features.php\\'>Features</a></dt>\\n\\t<dd><a href=\\'/manual/en/features.http-auth.php\\'>HTTP authentication with PHP</a></dd>\\n\\t<dd><a href=\\'/manual/en/features.cookies.php\\'>Cookies</a></dd>\\n\\t<dd><a href=\\'/manual/en/features.sessions.php\\'>Sessions</a></dd>\\n\\t<dd><a href=\\'/manual/en/features.xforms.php\\'>Dealing with XForms</a></dd>\\n\\t<dd><a href=\\'/manual/en/features.file-upload.php\\'>Handling file uploads</a></dd>\\n\\t<dd><a href=\\'/manual/en/features.remote-files.php\\'>Using remote files</a></dd>\\n\\t<dd><a href=\\'/manual/en/features.connection-handling.php\\'>Connection handling</a></dd>\\n\\t<dd><a href=\\'/manual/en/features.persistent-connections.php\\'>Persistent Database Connections</a></dd>\\n\\t<dd><a href=\\'/manual/en/features.safe-mode.php\\'>Safe Mode</a></dd>\\n\\t<dd><a href=\\'/manual/en/features.commandline.php\\'>Command line usage</a></dd>\\n\\t<dd><a href=\\'/manual/en/features.gc.php\\'>Garbage Collection</a></dd>\\n\\t<dd><a href=\\'/manual/en/features.dtrace.php\\'>DTrace Dynamic Tracing</a></dd>\\n</dl>\\n<dl>\\n<dt><a href=\\'/manual/en/funcref.php\\'>Function Reference</a></dt>\\n\\t<dd><a href=\\'/manual/en/refs.basic.php.php\\'>Affecting PHP\\'s Behaviour</a></dd>\\n\\t<dd><a href=\\'/manual/en/refs.utilspec.audio.php\\'>Audio Formats Manipulation</a></dd>\\n\\t<dd><a href=\\'/manual/en/refs.remote.auth.php\\'>Authentication Services</a></dd>\\n\\t<dd><a href=\\'/manual/en/refs.utilspec.cmdline.php\\'>Command Line Specific Extensions</a></dd>\\n\\t<dd><a href=\\'/manual/en/refs.compression.php\\'>Compression and Archive Extensions</a></dd>\\n\\t<dd><a href=\\'/manual/en/refs.creditcard.php\\'>Credit Card Processing</a></dd>\\n\\t<dd><a href=\\'/manual/en/refs.crypto.php\\'>Cryptography Extensions</a></dd>\\n\\t<dd><a href=\\'/manual/en/refs.database.php\\'>Database Extensions</a></dd>\\n\\t<dd><a href=\\'/manual/en/refs.calendar.php\\'>Date and Time Related Extensions</a></dd>\\n\\t<dd><a href=\\'/manual/en/refs.fileprocess.file.php\\'>File System Related Extensions</a></dd>\\n\\t<dd><a href=\\'/manual/en/refs.international.php\\'>Human Language and Character Encoding Support</a></dd>\\n\\t<dd><a href=\\'/manual/en/refs.utilspec.image.php\\'>Image Processing and Generation</a></dd>\\n\\t<dd><a href=\\'/manual/en/refs.remote.mail.php\\'>Mail Related Extensions</a></dd>\\n\\t<dd><a href=\\'/manual/en/refs.math.php\\'>Mathematical Extensions</a></dd>\\n\\t<dd><a href=\\'/manual/en/refs.utilspec.nontext.php\\'>Non-Text MIME Output</a></dd>\\n\\t<dd><a href=\\'/manual/en/refs.fileprocess.process.php\\'>Process Control Extensions</a></dd>\\n\\t<dd><a href=\\'/manual/en/refs.basic.other.php\\'>Other Basic Extensions</a></dd>\\n\\t<dd><a href=\\'/manual/en/refs.remote.other.php\\'>Other Services</a></dd>\\n\\t<dd><a href=\\'/manual/en/refs.search.php\\'>Search Engine Extensions</a></dd>\\n\\t<dd><a href=\\'/manual/en/refs.utilspec.server.php\\'>Server Specific Extensions</a></dd>\\n\\t<dd><a href=\\'/manual/en/refs.basic.session.php\\'>Session Extensions</a></dd>\\n\\t<dd><a href=\\'/manual/en/refs.basic.text.php\\'>Text Processing</a></dd>\\n\\t<dd><a href=\\'/manual/en/refs.basic.vartype.php\\'>Variable and Type Related Extensions</a></dd>\\n\\t<dd><a href=\\'/manual/en/refs.webservice.php\\'>Web Services</a></dd>\\n\\t<dd><a href=\\'/manual/en/refs.utilspec.windows.php\\'>Windows Only Extensions</a></dd>\\n\\t<dd><a href=\\'/manual/en/refs.xml.php\\'>XML Manipulation</a></dd>\\n\\t<dd><a href=\\'/manual/en/refs.ui.php\\'>GUI Extensions</a></dd>\\n</dl>\\n<dl>\\n<dt>Keyboard Shortcuts</dt><dt>?</dt>\\n<dd>This help</dd>\\n<dt>j</dt>\\n<dd>Next menu item</dd>\\n<dt>k</dt>\\n<dd>Previous menu item</dd>\\n<dt>g p</dt>\\n<dd>Previous man page</dd>\\n<dt>g n</dt>\\n<dd>Next man page</dd>\\n<dt>G</dt>\\n<dd>Scroll to bottom</dd>\\n<dt>g g</dt>\\n<dd>Scroll to top</dd>\\n<dt>g h</dt>\\n<dd>Goto homepage</dd>\\n<dt>g s</dt>\\n<dd>Goto search<br>(current page)</dd>\\n<dt>/</dt>\\n<dd>Focus search box</dd>\\n</dl></div></nav>\\n<div id=\"goto\">\\n    <div class=\"search\">\\n         <div class=\"text\"></div>\\n         <div class=\"results\"><ul></ul></div>\\n   </div>\\n</div>\\n\\n\\n\\n<div id=\"intro\" class=\"clearfix\">\\n  <div class=\"container\">\\n      <div class=\"row clearfix\">\\n    <div class=\"blurb\">\\n      <p>PHP is a popular general-purpose scripting language that is especially suited to web development.</p>\\n      <p>Fast, flexible and pragmatic, PHP powers everything from your blog to the most popular websites in the world.</p>\\n    </div>\\n    <div class=\"download\">\\n      <h3>Download</h3><ul>\\n\\n            <li><a class=\\'download-link\\' href=\\'/downloads.php#v5.6.38\\'>5.6.38</a><span class=\\'dot\\'>&middot;</span><a class=\\'notes\\' href=\\'/ChangeLog-5.php#5.6.38\\'>Release Notes</a><span class=\\'dot\\'>&middot;</span><a class=\\'notes\\' href=\\'/migration56\\'>Upgrading</a></li>\\n\\n            <li><a class=\\'download-link\\' href=\\'/downloads.php#v7.0.32\\'>7.0.32</a><span class=\\'dot\\'>&middot;</span><a class=\\'notes\\' href=\\'/ChangeLog-7.php#7.0.32\\'>Release Notes</a><span class=\\'dot\\'>&middot;</span><a class=\\'notes\\' href=\\'/migration70\\'>Upgrading</a></li>\\n\\n            <li><a class=\\'download-link\\' href=\\'/downloads.php#v7.1.23\\'>7.1.23</a><span class=\\'dot\\'>&middot;</span><a class=\\'notes\\' href=\\'/ChangeLog-7.php#7.1.23\\'>Release Notes</a><span class=\\'dot\\'>&middot;</span><a class=\\'notes\\' href=\\'/migration71\\'>Upgrading</a></li>\\n\\n            <li><a class=\\'download-link\\' href=\\'/downloads.php#v7.2.11\\'>7.2.11</a><span class=\\'dot\\'>&middot;</span><a class=\\'notes\\' href=\\'/ChangeLog-7.php#7.2.11\\'>Release Notes</a><span class=\\'dot\\'>&middot;</span><a class=\\'notes\\' href=\\'/migration72\\'>Upgrading</a></li>\\n</ul>\\n    </div>\\n  </div>  </div>\\n</div>\\n\\n\\n<div id=\"layout\" class=\"clearfix\">\\n  <section id=\"layout-content\">\\n<div class=\\'home-content\\'><article class=\"newsentry\">\\n  <header class=\"title\">\\n    <time datetime=\"2018-10-11T14:11:47+00:00\">11 Oct 2018</time>\\n    <h2 class=\"newstitle\">\\n      <a href=\"http://php.net/archive/2018.php#id2018-10-11-3\" id=\"id2018-10-11-3\">PHP 7.1.23 Released</a>\\n    </h2>\\n  </header>\\n  <div class=\"newscontent\">\\n    <div>\\n     <p>The PHP development team announces the immediate availability of PHP 7.1.23.\\n     This is a bugfix release.</p>\\n\\n     <p>All PHP 7.1 users are encouraged to upgrade to this version.</p>\\n\\n     <p>For source downloads of PHP 7.1.23 please visit our <a href=\"http://www.php.net/downloads.php\">downloads page</a>,\\n     Windows source and binaries can be found on <a href=\"http://windows.php.net/download/\">windows.php.net/download/</a>.\\n     The list of changes is recorded in the <a href=\"http://www.php.net/ChangeLog-7.php#7.1.23\">ChangeLog</a>.\\n     </p>\\n    </div>\\n  \\n  </div>\\n</article><article class=\"newsentry\">\\n  <header class=\"title\">\\n    <time datetime=\"2018-10-11T14:11:19+00:00\">11 Oct 2018</time>\\n    <h2 class=\"newstitle\">\\n      <a href=\"http://php.net/archive/2018.php#id2018-10-11-2\" id=\"id2018-10-11-2\">PHP 7.2.11 Released</a>\\n    </h2>\\n  </header>\\n  <div class=\"newscontent\">\\n    <div>\\n     <p>The PHP development team announces the immediate availability of PHP 7.2.11.\\n     This is a bugfix release.</p>\\n\\n     <p>All PHP 7.2 users are encouraged to upgrade to this version.</p>\\n\\n     <p>For source downloads of PHP 7.2.11 please visit our <a href=\"http://www.php.net/downloads.php\">downloads page</a>,\\n     Windows source and binaries can be found on <a href=\"http://windows.php.net/download/\">windows.php.net/download/</a>.\\n     The list of changes is recorded in the <a href=\"http://www.php.net/ChangeLog-7.php#7.2.11\">ChangeLog</a>.\\n     </p>\\n    </div>\\n  \\n  </div>\\n</article><article class=\"newsentry\">\\n  <header class=\"title\">\\n    <time datetime=\"2018-10-11T13:47:50+02:00\">11 Oct 2018</time>\\n    <h2 class=\"newstitle\">\\n      <a href=\"http://php.net/archive/2018.php#id2018-10-11-1\" id=\"id2018-10-11-1\">PHP 7.3.0RC3 Released</a>\\n    </h2>\\n  </header>\\n  <div class=\"newscontent\">\\n    <div>\\n      <p>\\n        The PHP team is glad to announce the next PHP 7.3.0 pre-release, PHP 7.3.0RC3.\\n        The rough outline of the PHP 7.3 release cycle is specified in the\\n        <a href=\"https://wiki.php.net/todo/php73\">PHP Wiki</a>.\\n      </p>\\n\\n      <p>\\n        For source downloads of PHP 7.3.0RC3 please visit the <a href=\"https://downloads.php.net/~cmb/\">download page</a>.\\n        Windows sources and binaries can be found on <a href=\"https://windows.php.net/qa/\">windows.php.net/qa/</a>.\\n      </p>\\n\\n      <p>\\n        Please carefully test this version and report any issues found in the <a href=\" https://bugs.php.net\">bug reporting system</a>.\\n      </p>\\n\\n      <p>\\n        <b>THIS IS A DEVELOPMENT PREVIEW - DO NOT USE IT IN PRODUCTION!</b>\\n      </p>\\n\\n      <p>\\n        For more information on the new features and other changes, you can read the\\n        <a href=\"https://github.com/php/php-src/blob/php-7.3.0RC3/NEWS\">NEWS</a> file,\\n        or the <a href=\"https://github.com/php/php-src/blob/php-7.3.0RC3/UPGRADING\">UPGRADING</a>\\n        file for a complete list of upgrading notes. Internal changes are listed in the\\n        <a href=\"https://github.com/php/php-src/blob/php-7.3.0RC3/UPGRADING.INTERNALS\">UPGRADING.INTERNALS</a> file.\\n        These files can also be found in the release archive.\\n      </p>\\n\\n      <p>\\n        The next release would be RC4, planned for October 25th.\\n      </p>\\n\\n      <p>\\n        The signatures for the release can be found in <a href=\"https://gist.github.com/cmb69/3b521933b5524c92e880fc96559a5f5c\">the manifest</a>\\n        or on <a href=\"https://qa.php.net/\">the QA site</a>.\\n      </p>\\n\\n      <p>\\n        Thank you for helping us make PHP better.\\n      </p>\\n    </div>\\n  \\n  </div>\\n</article><article class=\"newsentry\">\\n  <header class=\"title\">\\n    <time datetime=\"2018-09-28T10:31:16+02:00\">28 Sep 2018</time>\\n    <h2 class=\"newstitle\">\\n      <a href=\"http://php.net/archive/2018.php#id2018-09-28-1\" id=\"id2018-09-28-1\">PHP 7.3.0RC2 Released</a>\\n    </h2>\\n  </header>\\n  <div class=\"newscontent\">\\n    <div>\\n      <p>\\n        The PHP team is glad to announce the next PHP 7.3.0 pre-release, PHP 7.3.0RC2.\\n        The rough outline of the PHP 7.3 release cycle is specified in the\\n        <a href=\"https://wiki.php.net/todo/php73\">PHP Wiki</a>.\\n      </p>\\n\\n      <p>\\n        For source downloads of PHP 7.3.0RC2 please visit the <a href=\"https://downloads.php.net/~cmb/\">download page</a>.\\n        Windows sources and binaries can be found on <a href=\"https://windows.php.net/qa/\">windows.php.net/qa/</a>.\\n      </p>\\n\\n      <p>\\n        Please carefully test this version and report any issues found in the <a href=\" https://bugs.php.net\">bug reporting system</a>.\\n      </p>\\n\\n      <p>\\n        <b>THIS IS A DEVELOPMENT PREVIEW - DO NOT USE IT IN PRODUCTION!</b>\\n      </p>\\n\\n      <p>\\n        For more information on the new features and other changes, you can read the\\n        <a href=\"https://github.com/php/php-src/blob/php-7.3.0RC2/NEWS\">NEWS</a> file,\\n        or the <a href=\"https://github.com/php/php-src/blob/php-7.3.0RC2/UPGRADING\">UPGRADING</a>\\n        file for a complete list of upgrading notes. Internal changes are listed in the\\n        <a href=\"https://github.com/php/php-src/blob/php-7.3.0RC2/UPGRADING.INTERNALS\">UPGRADING.INTERNALS</a> file.\\n        These files can also be found in the release archive.\\n      </p>\\n\\n      <p>\\n        The next release would be RC3, planned for October 11th.\\n      </p>\\n\\n      <p>\\n        The signatures for the release can be found in <a href=\"https://gist.github.com/cmb69/ffe9373d127254a19e73e73251e4ff7d\">the manifest</a>\\n        or on <a href=\"https://qa.php.net/\">the QA site</a>.\\n      </p>\\n\\n      <p>\\n        Thank you for helping us make PHP better.\\n      </p>\\n    </div>\\n  \\n  </div>\\n</article><article class=\"newsentry\">\\n  <header class=\"title\">\\n    <time datetime=\"2018-09-13T19:56:28+02:00\">13 Sep 2018</time>\\n    <h2 class=\"newstitle\">\\n      <a href=\"http://php.net/archive/2018.php#id2018-09-13-5\" id=\"id2018-09-13-5\">PHP 5.6.38 Released</a>\\n    </h2>\\n  </header>\\n  <div class=\"newscontent\">\\n    <div>\\n     <p>The PHP development team announces the immediate availability of PHP\\n        5.6.38. This is a security release. One security bug has been fixed\\n        in this release.\\n\\n     All PHP 5.6 users are encouraged to upgrade to this version.</p>\\n\\n     <p>For source downloads of PHP 5.6.38 please visit our <a href=\"http://www.php.net/downloads.php\">downloads page</a>,\\n     Windows source and binaries can be found on <a href=\"http://windows.php.net/download/\">windows.php.net/download/</a>.\\n     The list of changes is recorded in the <a href=\"http://www.php.net/ChangeLog-5.php#5.6.38\">ChangeLog</a>.\\n     </p>\\n    </div>\\n  \\n  </div>\\n</article><article class=\"newsentry\">\\n  <header class=\"title\">\\n    <time datetime=\"2018-09-13T13:21:55+00:00\">13 Sep 2018</time>\\n    <h2 class=\"newstitle\">\\n      <a href=\"http://php.net/archive/2018.php#id2018-09-13-4\" id=\"id2018-09-13-4\">PHP 7.1.22 Released</a>\\n    </h2>\\n  </header>\\n  <div class=\"newscontent\">\\n    <div>\\n     <p>The PHP development team announces the immediate availability of PHP\\n     7.1.22. This is a security release. One security bug has been fixed\\n     in this release.\\n\\n     All PHP 7.1 users are encouraged to upgrade to this version.</p>\\n\\n     <p>For source downloads of PHP 7.1.22 please visit our <a href=\"http://www.php.net/downloads.php\">downloads page</a>,\\n     Windows source and binaries can be found on <a href=\"http://windows.php.net/download/\">windows.php.net/download/</a>.\\n     The list of changes is recorded in the <a href=\"http://www.php.net/ChangeLog-7.php#7.1.22\">ChangeLog</a>.\\n     </p>\\n\\n    </div>\\n  \\n  </div>\\n</article><article class=\"newsentry\">\\n  <header class=\"title\">\\n    <time datetime=\"2018-09-13T13:00:00+01:00\">13 Sep 2018</time>\\n    <h2 class=\"newstitle\">\\n      <a href=\"http://php.net/archive/2018.php#id2018-09-13-3\" id=\"id2018-09-13-3\">PHP 7.0.32 Released</a>\\n    </h2>\\n  </header>\\n  <div class=\"newscontent\">\\n    <div>\\n     <p>The PHP development team announces the immediate availability of PHP\\n\\t7.0.32. This is a security release. One security bug has been fixed\\n\\tin this release.\\n\\n     All PHP 7.0 users are encouraged to upgrade to this version.</p>\\n\\n     <p>For source downloads of PHP 7.0.32 please visit our <a href=\"http://www.php.net/downloads.php\">downloads page</a>,\\n     Windows source and binaries can be found on <a href=\"http://windows.php.net/download/\">windows.php.net/download/</a>.\\n     The list of changes is recorded in the <a href=\"http://www.php.net/ChangeLog-7.php#7.0.32\">ChangeLog</a>.\\n     </p>\\n    </div>\\n  \\n  </div>\\n</article><article class=\"newsentry\">\\n  <header class=\"title\">\\n    <time datetime=\"2018-09-13T10:57:40+02:00\">13 Sep 2018</time>\\n    <h2 class=\"newstitle\">\\n      <a href=\"http://php.net/archive/2018.php#id2018-09-13-2\" id=\"id2018-09-13-2\">PHP 7.3.0RC1 Released</a>\\n    </h2>\\n  </header>\\n  <div class=\"newscontent\">\\n    <div>\\n      <p>\\n        The PHP team is glad to announce the release of the next PHP 7.3.0 pre-release, PHP 7.3.0RC1.\\n        The rough outline of the PHP 7.3 release cycle is specified in the\\n        <a href=\"https://wiki.php.net/todo/php73\">PHP Wiki</a>.\\n      </p>\\n\\n      <p>\\n        For source downloads of PHP 7.3.0RC1 please visit the <a href=\"https://downloads.php.net/~cmb/\">download page</a>.\\n        Windows sources and binaries can be found on <a href=\"https://windows.php.net/qa/\">windows.php.net/qa/</a>.\\n      </p>\\n\\n      <p>\\n        Please carefully test this version and report any issues found in the <a href=\" https://bugs.php.net\">bug reporting system</a>.\\n      </p>\\n\\n      <p>\\n        <b>THIS IS A DEVELOPMENT PREVIEW - DO NOT USE IT IN PRODUCTION!</b>\\n      </p>\\n\\n      <p>\\n        For more information on the new features and other changes, you can read the\\n        <a href=\"https://github.com/php/php-src/blob/php-7.3.0RC1/NEWS\">NEWS</a> file,\\n        or the <a href=\"https://github.com/php/php-src/blob/php-7.3.0RC1/UPGRADING\">UPGRADING</a>\\n        file for a complete list of upgrading notes. Internal changes are listed in the\\n        <a href=\"https://github.com/php/php-src/blob/php-7.3.0RC1/UPGRADING.INTERNALS\">UPGRADING.INTERNALS</a> file.\\n        These files can also be found in the release archive.\\n      </p>\\n\\n      <p>\\n        The next release would be RC2, planned for September 27th.\\n      </p>\\n\\n      <p>\\n        The signatures for the release can be found in <a href=\"https://gist.github.com/cmb69/224ae1ef28b1e3f2e0a62a4ab50966e4\">the manifest</a>\\n        or on <a href=\"https://qa.php.net/\">the QA site</a>.\\n      </p>\\n\\n      <p>\\n        Thank you for helping us make PHP better.\\n      </p>\\n    </div>\\n  \\n  </div>\\n</article><article class=\"newsentry\">\\n  <header class=\"title\">\\n    <time datetime=\"2018-09-13T08:44:08+00:00\">13 Sep 2018</time>\\n    <h2 class=\"newstitle\">\\n      <a href=\"http://php.net/archive/2018.php#id2018-09-13-1\" id=\"id2018-09-13-1\">PHP 7.2.10 Released</a>\\n    </h2>\\n  </header>\\n  <div class=\"newscontent\">\\n    <div>\\n     <p>The PHP development team announces the immediate availability of PHP\\n     7.2.10. This is a security release which also contains several minor bug fixes.</p>\\n\\n     <p>All PHP 7.2 users are encouraged to upgrade to this version.</p>\\n\\n     <p>For source downloads of PHP 7.2.10 please visit our <a href=\"http://www.php.net/downloads.php\">downloads page</a>,\\n     Windows source and binaries can be found on <a href=\"http://windows.php.net/download/\">windows.php.net/download/</a>.\\n     The list of changes is recorded in the <a href=\"http://www.php.net/ChangeLog-7.php#7.2.10\">ChangeLog</a>.\\n     </p>\\n    </div>\\n  \\n  </div>\\n</article><article class=\"newsentry\">\\n  <header class=\"title\">\\n    <time datetime=\"2018-08-30T17:37:34+02:00\">30 Aug 2018</time>\\n    <h2 class=\"newstitle\">\\n      <a href=\"http://php.net/archive/2018.php#id2018-08-30-1\" id=\"id2018-08-30-1\">PHP 7.3.0.beta3 Released</a>\\n    </h2>\\n  </header>\\n  <div class=\"newscontent\">\\n    <div>\\n      <p>\\n        The PHP team is glad to announce the release of the seventh PHP 7.3.0 version, PHP 7.3.0beta3.\\n        The rough outline of the PHP 7.3 release cycle is specified in the\\n        <a href=\"https://wiki.php.net/todo/php73\">PHP Wiki</a>.\\n      </p>\\n\\n      <p>\\n        For source downloads of PHP 7.3.0beta3 please visit the <a href=\"https://downloads.php.net/~cmb/\">download page</a>.\\n        Windows sources and binaries can be found on <a href=\"https://windows.php.net/qa/\">windows.php.net/qa/</a>.\\n      </p>\\n\\n      <p>\\n        Please carefully test this version and report any issues found in the <a href=\" https://bugs.php.net\">bug reporting system</a>.\\n      </p>\\n\\n      <p>\\n        <b>THIS IS A DEVELOPMENT PREVIEW - DO NOT USE IT IN PRODUCTION!</b>\\n      </p>\\n\\n      <p>\\n        For more information on the new features and other changes, you can read the\\n        <a href=\"https://github.com/php/php-src/blob/php-7.3.0beta3/NEWS\">NEWS</a> file,\\n        or the <a href=\"https://github.com/php/php-src/blob/php-7.3.0beta3/UPGRADING\">UPGRADING</a>\\n        file for a complete list of upgrading notes. Internal changes are listed in the\\n        <a href=\"https://github.com/php/php-src/blob/php-7.3.0beta3/UPGRADING.INTERNALS\">UPGRADING.INTERNALS</a> file.\\n        These files can also be found in the release archive.\\n      </p>\\n\\n      <p>\\n        The next release would be RC1, planned for September 13th.\\n      </p>\\n\\n      <p>\\n        The signatures for the release can be found in <a href=\"https://gist.github.com/cmb69/aeef8c8877a451ba6fce6f990dd3860b\">the manifest</a>\\n        or on <a href=\"https://qa.php.net/\">the QA site</a>.\\n      </p>\\n\\n      <p>\\n        Thank you for helping us make PHP better.\\n      </p>\\n    </div>\\n  \\n  </div>\\n</article><article class=\"newsentry\">\\n  <header class=\"title\">\\n    <time datetime=\"2018-08-16T14:11:38+02:00\">16 Aug 2018</time>\\n    <h2 class=\"newstitle\">\\n      <a href=\"http://php.net/archive/2018.php#id2018-08-16-1\" id=\"id2018-08-16-1\">PHP 7.3.0.beta2 Released</a>\\n    </h2>\\n  </header>\\n  <div class=\"newscontent\">\\n    <div>\\n      <p>\\n        The PHP team is glad to announce the release of the sixth PHP 7.3.0 version, PHP 7.3.0beta2.\\n        The rough outline of the PHP 7.3 release cycle is specified in the\\n        <a href=\"https://wiki.php.net/todo/php73\">PHP Wiki</a>.\\n      </p>\\n\\n      <p>\\n        For source downloads of PHP 7.3.0beta2 please visit the <a href=\"https://downloads.php.net/~cmb/\">download page</a>.\\n        Windows sources and binaries can be found on <a href=\"https://windows.php.net/qa/\">windows.php.net/qa/</a>.\\n      </p>\\n\\n      <p>\\n        Please carefully test this version and report any issues found in the <a href=\" https://bugs.php.net\">bug reporting system</a>.\\n      </p>\\n\\n      <p>\\n        <b>THIS IS A DEVELOPMENT PREVIEW - DO NOT USE IT IN PRODUCTION!</b>\\n      </p>\\n\\n      <p>\\n        For more information on the new features and other changes, you can read the\\n        <a href=\"https://github.com/php/php-src/blob/php-7.3.0beta2/NEWS\">NEWS</a> file,\\n        or the <a href=\"https://github.com/php/php-src/blob/php-7.3.0beta2/UPGRADING\">UPGRADING</a>\\n        file for a complete list of upgrading notes. Internal changes are listed in the\\n        <a href=\"https://github.com/php/php-src/blob/php-7.3.0beta2/UPGRADING.INTERNALS\">UPGRADING.INTERNALS</a> file.\\n        These files can also be found in the release archive.\\n      </p>\\n\\n      <p>\\n        The next release would be Beta 3, planned for August 30th.\\n      </p>\\n\\n      <p>\\n        The signatures for the release can be found in <a href=\"https://gist.github.com/cmb69/4bfd2f4d54ebc01cd37ba3dc86f1f814\">the manifest</a>\\n        or on <a href=\"https://qa.php.net/\">the QA site</a>.\\n      </p>\\n\\n      <p>\\n        Thank you for helping us make PHP better.\\n      </p>\\n    </div>\\n  \\n  </div>\\n</article><article class=\"newsentry\">\\n  <header class=\"title\">\\n    <time datetime=\"2018-08-02T11:44:58+02:00\">02 Aug 2018</time>\\n    <h2 class=\"newstitle\">\\n      <a href=\"http://php.net/archive/2018.php#id2018-08-02-1\" id=\"id2018-08-02-1\">PHP 7.3.0.beta1 Released</a>\\n    </h2>\\n  </header>\\n  <div class=\"newscontent\">\\n    <div>\\n      <p>\\n        The PHP team is glad to announce the release of the fifth PHP 7.3.0 version, PHP 7.3.0beta1.\\n        The rough outline of the PHP 7.3 release cycle is specified in the\\n        <a href=\"https://wiki.php.net/todo/php73\">PHP Wiki</a>.\\n      </p>\\n\\n      <p>\\n        For source downloads of PHP 7.3.0beta1 please visit the <a href=\"https://downloads.php.net/~cmb/\">download page</a>.\\n        Windows sources and binaries can be found on <a href=\"https://windows.php.net/qa/\">windows.php.net/qa/</a>.\\n      </p>\\n\\n      <p>\\n        Please carefully test this version and report any issues found in the <a href=\" https://bugs.php.net\">bug reporting system</a>.\\n      </p>\\n\\n      <p>\\n        <b>THIS IS A DEVELOPMENT PREVIEW - DO NOT USE IT IN PRODUCTION!</b>\\n      </p>\\n\\n      <p>\\n        For more information on the new features and other changes, you can read the\\n        <a href=\"https://github.com/php/php-src/blob/php-7.3.0beta1/NEWS\">NEWS</a> file,\\n        or the <a href=\"https://github.com/php/php-src/blob/php-7.3.0beta1/UPGRADING\">UPGRADING</a>\\n        file for a complete list of upgrading notes. These files can also be found in the release archive.\\n      </p>\\n\\n      <p>\\n        The next release would be Beta 2, planned for August 16th.\\n      </p>\\n\\n      <p>\\n        The signatures for the release can be found in <a href=\"https://gist.github.com/cmb69/e666c3f1622321f868de9282bee67e43\">the manifest</a>\\n        or on <a href=\"https://qa.php.net/\">the QA site</a>.\\n      </p>\\n\\n      <p>\\n        Thank you for helping us make PHP better.\\n      </p>\\n\\n    </div>\\n  \\n  </div>\\n</article><article class=\"newsentry\">\\n  <header class=\"title\">\\n    <time datetime=\"2018-07-19T11:02:21+02:00\">19 Jul 2018</time>\\n    <h2 class=\"newstitle\">\\n      <a href=\"http://php.net/archive/2018.php#id2018-07-19-1\" id=\"id2018-07-19-1\">PHP 7.3.0alpha4 Released</a>\\n    </h2>\\n  </header>\\n  <div class=\"newscontent\">\\n    <div>\\n      <p>\\n        The PHP team is glad to announce the release of the fourth PHP 7.3.0 version, PHP 7.3.0alpha4.\\n        The rough outline of the PHP 7.3 release cycle is specified in the\\n        <a href=\"https://wiki.php.net/todo/php73\">PHP Wiki</a>.\\n      </p>\\n\\n      <p>\\n        For source downloads of PHP 7.3.0alpha4 please visit the <a href=\"https://downloads.php.net/~cmb/\">download page</a>.\\n        Windows sources and binaries can be found on <a href=\"https://windows.php.net/qa/\">windows.php.net/qa/</a>.\\n      </p>\\n\\n      <p>\\n        Please carefully test this version and report any issues found in the <a href=\" https://bugs.php.net\">bug reporting system</a>.\\n      </p>\\n\\n      <p>\\n        <b>THIS IS A DEVELOPMENT PREVIEW - DO NOT USE IT IN PRODUCTION!</b>\\n      </p>\\n\\n      <p>\\n        For more information on the new features and other changes, you can read the\\n        <a href=\"https://github.com/php/php-src/blob/php-7.3.0alpha4/NEWS\">NEWS</a> file,\\n        or the <a href=\"https://github.com/php/php-src/blob/php-7.3.0alpha4/UPGRADING\">UPGRADING</a>\\n        file for a complete list of upgrading notes. These files can also be found in the release archive.\\n      </p>\\n\\n      <p>\\n        The next release would be Beta 1, planned for August 2nd.\\n      </p>\\n\\n      <p>\\n        The signatures for the release can be found in <a href=\"https://gist.github.com/cmb69/b30366855341382046687ce7adb20f69\">the manifest</a> or on <a href=\"https://qa.php.net/\">the QA site</a>.\\n      </p>\\n\\n      <p>\\n        Thank you for helping us make PHP better.\\n      </p>\\n    </div>\\n  \\n  </div>\\n</article><article class=\"newsentry\">\\n  <header class=\"title\">\\n    <time datetime=\"2018-07-05T11:41:41+02:00\">05 Jul 2018</time>\\n    <h2 class=\"newstitle\">\\n      <a href=\"http://php.net/archive/2018.php#id2018-07-05-1\" id=\"id2018-07-05-1\">PHP 7.3.0 alpha 3 Released</a>\\n    </h2>\\n  </header>\\n  <div class=\"newscontent\">\\n    <div>\\n     <p>\\n      The PHP team is glad to announce the release of the third PHP 7.3.0 version, PHP 7.3.0 Alpha 3.\\n      The rough outline of the PHP 7.3 release cycle is specified in the\\n      <a href=\"https://wiki.php.net/todo/php73\">PHP Wiki</a>.\\n     </p>\\n\\n     <p>\\n      For source downloads of PHP 7.3.0 Alpha 3 please visit the <a href=\"https://downloads.php.net/~cmb/\">download page</a>.\\n      Windows sources and binaries can be found on <a href=\"https://windows.php.net/qa/\">windows.php.net/qa/</a>.\\n     </p>\\n\\n     <p>\\n      Please carefully test this version and report any issues found in the <a href=\" http://bugs.php.net\">bug reporting system</a>.\\n     </p>\\n\\n     <p>\\n      <b>THIS IS A DEVELOPMENT PREVIEW - DO NOT USE IT IN PRODUCTION!</b>\\n     </p>\\n\\n     <p>\\n      For more information on the new features and other changes, you can read the\\n      <a href=\"https://github.com/php/php-src/blob/php-7.3.0alpha3/NEWS\">NEWS</a> file,\\n      or the <a href=\"https://github.com/php/php-src/blob/php-7.3.0alpha3/UPGRADING\">UPGRADING</a>\\n      file for a complete list of upgrading notes. These files can also be found in the release archive.\\n     </p>\\n\\n     <p>\\n      The next release would be Beta 1, planned for July 19th.\\n     </p>\\n\\n     <p>\\n      The signatures for the release can be found in <a href=\"https://gist.github.com/cmb69/e2e76ac0072474b019b0c9f1aef249f1\">the manifest</a> or on <a href=\"https://qa.php.net/\">the QA site</a>.\\n     </p>\\n\\n     <p>\\n      Thank you for helping us make PHP better.\\n     </p>\\n    </div>\\n  \\n  </div>\\n</article><article class=\"newsentry\">\\n  <header class=\"title\">\\n    <time datetime=\"2018-06-21T11:46:20+02:00\">21 Jun 2018</time>\\n    <h2 class=\"newstitle\">\\n      <a href=\"http://php.net/archive/2018.php#id2018-06-21-1\" id=\"id2018-06-21-1\">PHP 7.3.0 alpha 2 Released</a>\\n    </h2>\\n  </header>\\n  <div class=\"newscontent\">\\n    <div>\\n     <p>\\n      The PHP team is glad to announce the release of the second PHP 7.3.0 version, PHP 7.3.0 Alpha 2.\\n      The rough outline of the PHP 7.3 release cycle is specified in the\\n      <a href=\"https://wiki.php.net/todo/php73\">PHP Wiki</a>.\\n     </p>\\n\\n     <p>\\n      For source downloads of PHP 7.3.0 Alpha 2 please visit the <a href=\"https://downloads.php.net/~cmb/\">download page</a>.\\n      Windows sources and binaries can be found on <a href=\"https://windows.php.net/qa/\">windows.php.net/qa/</a>.\\n     </p>\\n\\n     <p>\\n      Please carefully test this version and report any issues found in the <a href=\" http://bugs.php.net\">bug reporting system</a>.\\n     </p>\\n\\n     <p>\\n      <b>THIS IS A DEVELOPMENT PREVIEW - DO NOT USE IT IN PRODUCTION!</b>\\n     </p>\\n\\n     <p>\\n      For more information on the new features and other changes, you can read the\\n      <a href=\"https://github.com/php/php-src/blob/php-7.3.0alpha2/NEWS\">NEWS</a> file,\\n      or the <a href=\"https://github.com/php/php-src/blob/php-7.3.0alpha2/UPGRADING\">UPGRADING</a>\\n      file for a complete list of upgrading notes. These files can also be found in the release archive.\\n     </p>\\n\\n     <p>\\n      The next release would be Alpha 3, planned for July 5.\\n     </p>\\n\\n     <p>\\n      The signatures for the release can be found in <a href=\"https://gist.github.com/cmb69/2c54d0972b296a905062f52c0852e7cb\">the manifest</a> or on <a href=\"https://qa.php.net/\">the QA site</a>.\\n     </p>\\n\\n     <p>\\n      Thank you for helping us make PHP better.\\n     </p>\\n    </div>\\n  \\n  </div>\\n</article><article class=\"newsentry\">\\n  <header class=\"title\">\\n    <time datetime=\"2018-06-07T18:36:37+00:00\">07 Jun 2018</time>\\n    <h2 class=\"newstitle\">\\n      <a href=\"http://php.net/archive/2018.php#id2018-06-07-1\" id=\"id2018-06-07-1\">PHP 7.3.0 alpha 1 Released</a>\\n    </h2>\\n  </header>\\n  <div class=\"newscontent\">\\n    <div>\\n     <p>\\n     PHP team is glad to announce the release of the first PHP 7.3.0 version, PHP 7.3.0 Alpha 1.\\n\\t This starts the PHP 7.3 release cycle, the rough outline of which is specified in the\\n\\t <a href=\"https://wiki.php.net/todo/php73\">PHP Wiki</a>.\\n     </p>\\n\\n     <p>For source downloads of PHP 7.3.0 Alpha 1 please visit the <a href=\"https://downloads.php.net/~stas/\">download page</a>.</p>\\n\\n     <p>\\n     Please carefully test this version and report any issues found in the <a href=\" http://bugs.php.net\">bug reporting system</a>.\\n     </p>\\n\\n     <p>\\n     <b>Please DO NOT use this version in production, it is an early test version.</b>\\n     </p>\\n\\n     <p>\\n\\t     For more information on the new features and other changes, you can read the\\n\\t     <a href=\"https://github.com/php/php-src/blob/php-7.3.0alpha1/NEWS\">NEWS</a> file,\\n\\t     or the <a href=\"https://github.com/php/php-src/blob/php-7.3.0alpha1/UPGRADING\">UPGRADING</a>\\n\\t     file for a complete list of upgrading notes. These files can also be found in the release archive.\\n\\t </p>\\n\\n     <p>\\n     The next release would be Alpha 2, planned for June 21.\\n     </p>\\n\\n     <p>The signatures for the release can be found in <a href=\"https://gist.github.com/smalyshev/b0994d4dd138007237911429702ee040\">the manifest</a> or on <a href=\"https://qa.php.net/\">the QA site</a>.\\n     </p>\\n\\n     <p>Thank you for helping us make PHP better.</p>\\n    </div>\\n  \\n  </div>\\n</article><article class=\"newsentry\">\\n  <header class=\"title\">\\n    <time datetime=\"2018-02-01T09:12:34+00:00\">01 Feb 2018</time>\\n    <h2 class=\"newstitle\">\\n      <a href=\"http://php.net/archive/2018.php#id2018-02-01-1\" id=\"id2018-02-01-1\">PHP 7.2.2 Released</a>\\n    </h2>\\n  </header>\\n  <div class=\"newscontent\">\\n    <div>\\n      <p>The PHP development team announces the immediate availability of PHP\\n      7.2.2. This is a bugfix release, with several bug fixes included.</p>\\n\\n      <p>All PHP 7.2 users are encouraged to upgrade to this version.</p>\\n\\n      <p>For source downloads of PHP 7.2.2 please visit our <a href=\"http://www.php.net/downloads.php\">downloads page</a>,\\n      Windows source and binaries can be found on <a href=\"http://windows.php.net/download/\">windows.php.net/download/</a>.\\n      The list of changes is recorded in the <a href=\"http://www.php.net/ChangeLog-7.php#7.2.2\">ChangeLog</a>.\\n      </p>\\n    </div>\\n  \\n  </div>\\n</article><article class=\"newsentry\">\\n  <header class=\"title\">\\n    <time datetime=\"2017-10-12T11:46:49+02:00\">12 Oct 2017</time>\\n    <h2 class=\"newstitle\">\\n      <a href=\"http://php.net/archive/2017.php#id2017-10-12-1\" id=\"id2017-10-12-1\">PHP 7.2.0 Release Candidate 4 Released</a>\\n    </h2>\\n  </header>\\n  <div class=\"newscontent\">\\n    <div>\\n     <p>\\n     The PHP development team announces the immediate availability of PHP 7.2.0 RC4.\\n     This release is the fourth Release Candidate for 7.2.0.\\n     All users of PHP are encouraged to test this version carefully, and report any bugs\\n     and incompatibilities in the <a href=\"https://bugs.php.net/\">bug tracking system</a>.\\n     </p>\\n\\n     <p><strong>THIS IS A DEVELOPMENT PREVIEW - DO NOT USE IT IN PRODUCTION!</strong></p>\\n\\n     <p>\\n     For more information on the new features and other changes, you can read the\\n     <a href=\"https://github.com/php/php-src/blob/php-7.2.0RC4/NEWS\">NEWS</a> file,\\n     or the <a href=\"https://github.com/php/php-src/blob/php-7.2.0RC4/UPGRADING\">UPGRADING</a>\\n     file for a complete list of upgrading notes. These files can also be found in the release archive.\\n     </p>\\n\\n     <p>\\n     For source downloads of PHP 7.2.0 Release Candidate 4 please visit the\\n     <a href=\"https://downloads.php.net/~remi/\">download</a> page,\\n     Windows sources and binaries can be found at\\n     <a href=\"http://windows.php.net/qa/\">windows.php.net/qa/</a>.\\n     </p>\\n\\n     <p>\\n     The next Release Candidate will be announced on the 26th of October.\\n     You can also read the full list of planned releases on\\n     <a href=\"https://wiki.php.net/todo/php72\">our wiki</a>.\\n     </p>\\n\\n     <p>Thank you for helping us make PHP better.</p>\\n    </div>\\n  \\n  </div>\\n</article><article class=\"newsentry\">\\n  <header class=\"title\">\\n    <time datetime=\"2017-09-28T12:58:56+02:00\">28 Sep 2017</time>\\n    <h2 class=\"newstitle\">\\n      <a href=\"http://php.net/archive/2017.php#id2017-09-28-2\" id=\"id2017-09-28-2\">PHP 7.2.0 Release Candidate 3 Released</a>\\n    </h2>\\n  </header>\\n  <div class=\"newscontent\">\\n    <div>\\n     <p>\\n     The PHP development team announces the immediate availability of PHP 7.2.0 RC3.\\n     This release is the third Release Candidate for 7.2.0.\\n     All users of PHP are encouraged to test this version carefully, and report any bugs\\n     and incompatibilities in the <a href=\"https://bugs.php.net/\">bug tracking system</a>.\\n     </p>\\n\\n     <p><strong>THIS IS A DEVELOPMENT PREVIEW - DO NOT USE IT IN PRODUCTION!</strong></p>\\n\\n     <p>\\n     For more information on the new features and other changes, you can read the\\n     <a href=\"https://github.com/php/php-src/blob/php-7.2.0RC3/NEWS\">NEWS</a> file,\\n     or the <a href=\"https://github.com/php/php-src/blob/php-7.2.0RC3/UPGRADING\">UPGRADING</a>\\n     file for a complete list of upgrading notes. These files can also be found in the release archive.\\n     </p>\\n\\n     <p>\\n     For source downloads of PHP 7.2.0 Release Candidate 3 please visit the\\n     <a href=\"https://downloads.php.net/~remi/\">download</a> page,\\n     Windows sources and binaries can be found at\\n     <a href=\"http://windows.php.net/qa/\">windows.php.net/qa/</a>.\\n     </p>\\n\\n     <p>\\n     The next Release Candidate will be announced on the 12th of October.\\n     You can also read the full list of planned releases on\\n     <a href=\"https://wiki.php.net/todo/php72\">our wiki</a>.\\n     </p>\\n\\n     <p>Thank you for helping us make PHP better.</p>\\n    </div>\\n  \\n  </div>\\n</article><article class=\"newsentry\">\\n  <header class=\"title\">\\n    <time datetime=\"2017-08-31T10:53:58+02:00\">31 Aug 2017</time>\\n    <h2 class=\"newstitle\">\\n      <a href=\"http://php.net/archive/2017.php#id2017-08-31-1\" id=\"id2017-08-31-1\">PHP 7.2.0 Release Candidate 1 Released</a>\\n    </h2>\\n  </header>\\n  <div class=\"newscontent\">\\n    <div>\\n      <p>\\n      The PHP development team announces the immediate availability of PHP 7.2.0 Release\\n      Candidate 1. This release is the first Release Candidate for 7.2.0.\\n      All users of PHP are encouraged to test this version carefully, and report any bugs\\n      and incompatibilities in the <a href=\"https://bugs.php.net/\">bug tracking system</a>.\\n      </p>\\n\\n      <p><strong>THIS IS A DEVELOPMENT PREVIEW - DO NOT USE IT IN PRODUCTION!</strong></p>\\n\\n      <p>\\n      For more information on the new features and other changes, you can read the\\n      <a href=\"https://github.com/php/php-src/blob/php-7.2.0RC1/NEWS\">NEWS</a> file,\\n      or the <a href=\"https://github.com/php/php-src/blob/php-7.2.0RC1/UPGRADING\">UPGRADING</a>\\n      file for a complete list of upgrading notes. These files can also be found in the release archive.\\n      </p>\\n\\n      <p>\\n      For source downloads of PHP 7.2.0 Release Candidate 1 please visit the\\n      <a href=\"https://downloads.php.net/~remi/\">download</a> page,\\n      Windows sources and binaries can be found at\\n      <a href=\"http://windows.php.net/qa/\">windows.php.net/qa/</a>.\\n      </p>\\n\\n      <p>\\n      The second Release Candidate will be released on the 14th of September.\\n      You can also read the full list of planned releases on\\n      <a href=\"https://wiki.php.net/todo/php72\">our wiki</a>.\\n      </p>\\n\\n      <p>Thank you for helping us make PHP better.</p>\\n    </div>\\n  \\n  </div>\\n</article><article class=\"newsentry\">\\n  <header class=\"title\">\\n    <time datetime=\"2017-08-17T10:17:44+02:00\">17 Aug 2017</time>\\n    <h2 class=\"newstitle\">\\n      <a href=\"http://php.net/archive/2017.php#id2017-08-17-1\" id=\"id2017-08-17-1\">PHP 7.2.0 Beta 3 Released</a>\\n    </h2>\\n  </header>\\n  <div class=\"newscontent\">\\n    <div>\\n      <p>\\n      The PHP development team announces the immediate availability of PHP 7.2.0 Beta 3.\\n      This release is the third and final beta for 7.2.0. All users of PHP are encouraged\\n      to test this version carefully, and report any bugs and incompatibilities in the\\n      <a href=\"https://bugs.php.net/\">bug tracking system</a>.\\n      </p>\\n\\n      <p><strong>THIS IS A DEVELOPMENT PREVIEW - DO NOT USE IT IN PRODUCTION!</strong></p>\\n\\n      <p>\\n      For more information on the new features and other changes, you can read the\\n      <a href=\"https://github.com/php/php-src/blob/php-7.2.0beta3/NEWS\">NEWS</a> file,\\n      or the <a href=\"https://github.com/php/php-src/blob/php-7.2.0beta3/UPGRADING\">UPGRADING</a>\\n      file for a complete list of upgrading notes. These files can also be found in the release archive.\\n      </p>\\n\\n      <p>\\n      For source downloads of PHP 7.2.0 Beta 3 please visit the\\n      <a href=\"https://downloads.php.net/~remi/\">download</a> page,\\n      Windows sources and binaries can be found at\\n      <a href=\"http://windows.php.net/qa/\">windows.php.net/qa/</a>.\\n      </p>\\n\\n      <p>\\n      The first Release Candidate will be released on the 31th of August.\\n      You can also read the full list of planned releases on\\n      <a href=\"https://wiki.php.net/todo/php72\">our wiki</a>.\\n      </p>\\n\\n      <p>Thank you for helping us make PHP better.</p>\\n    </div>\\n  \\n  </div>\\n</article><article class=\"newsentry\">\\n  <header class=\"title\">\\n    <time datetime=\"2017-07-06T12:25:08+02:00\">06 Jul 2017</time>\\n    <h2 class=\"newstitle\">\\n      <a href=\"http://php.net/archive/2017.php#id2017-07-06-2\" id=\"id2017-07-06-2\">PHP 7.2.0 Alpha 3 Released</a>\\n    </h2>\\n  </header>\\n  <div class=\"newscontent\">\\n    <div>\\n     <p>The PHP development team announces the immediate availability of PHP 7.2.0 Alpha 3.\\n     This release contains fixes and improvements relative to Alpha 2.\\n     All users of PHP are encouraged to test this version carefully,\\n     and report any bugs and incompatibilities in the\\n     <a href=\"https://bugs.php.net/\">bug tracking system</a>.</p>\\n\\n     <p><strong>THIS IS A DEVELOPMENT PREVIEW - DO NOT USE IT IN PRODUCTION!</strong></p>\\n\\n     <p>For information on new features and other changes, you can read the\\n     <a href=\"https://github.com/php/php-src/blob/php-7.2.0alpha3/NEWS\">NEWS</a> file,\\n     or the <a href=\"https://github.com/php/php-src/blob/php-7.2.0alpha3/UPGRADING\">UPGRADING</a> file\\n     for a complete list of upgrading notes. These files can also be found in the release archive.</p>\\n\\n     <p>For source downloads of PHP 7.2.0 Alpha 3 please visit the <a href=\"https://downloads.php.net/~remi/\">download</a> page,\\n     Windows sources and binaries can be found on <a href=\"http://windows.php.net/qa/\">windows.php.net/qa/</a>.</p>\\n\\n     <p>The first beta will be released on the 20th of July. You can also read the full list of planned releases on our\\n     <a href=\"https://wiki.php.net/todo/php72#timetable\">wiki</a>.</p>\\n\\n     <p>Thank you for helping us make PHP better.</p>\\n    </div>\\n  \\n  </div>\\n</article><p class=\"archive\"><a href=\"/archive/\">Older News Entries</a></p></div>    </section><!-- layout-content -->\\n    \\n<aside class=\"tips\">\\n    <div class=\"inner\">\\n<div class=\"panel\">  <a href=\"/conferences\" class=\"headline\" title=\"Upcoming conferences\">Upcoming conferences</a><div class=\"body\"><ul><li><a href=\\'http://php.net/conferences/index.php#id2018-10-12-2\\' title=\\'International PHP Conference 2019 - Spring Edition\\'>International PHP Conference 2019 - Spring Edition</a></li><li><a href=\\'http://php.net/conferences/index.php#id2018-10-12-1\\' title=\\'Longhorn PHP 2019 CFP is open!\\'>Longhorn PHP 2019 CFP is open!</a></li><li><a href=\\'http://php.net/conferences/index.php#id2018-08-16-2\\' title=\\'php[world] 2018\\'>php[world] 2018</a></li><li><a href=\\'http://php.net/conferences/index.php#id2018-06-25-4\\' title=\\'SymfonyCon Lisbon 2018\\'>SymfonyCon Lisbon 2018</a></li></ul></div></div>\\n    <p class=\\'panel\\'><a href=\\'/cal.php\\'>User Group Events</a></p>\\n    <p class=\\'panel\\'><a href=\\'/thanks.php\\'>Special Thanks</a></p>\\n    <p class=\\'panel social-media\\'>\\n      <span class=\\'headline\\'>Social media</span>\\n      <div class=\\'body\\'>\\n        <ul>\\n          <li>\\n            <a href=\"https://twitter.com/official_php\">\\n              <i class=\"icon-twitter\"></i>\\n              @official_php\\n            </a>\\n          </li>\\n        </ul>\\n      </div>\\n    </p>\\n</div>\\n</aside>\\n\\n  </div><!-- layout -->\\n\\n  <footer>\\n    <div class=\"container footer-content\">\\n      <div class=\"row-fluid\">\\n      <ul class=\"footmenu\">\\n        <li><a href=\"/copyright.php\">Copyright &copy; 2001-2018 The PHP Group</a></li>\\n        <li><a href=\"/my.php\">My PHP.net</a></li>\\n        <li><a href=\"/contact.php\">Contact</a></li>\\n        <li><a href=\"/sites.php\">Other PHP.net sites</a></li>\\n        <li><a href=\"/mirrors.php\">Mirror sites</a></li>\\n        <li><a href=\"/privacy.php\">Privacy policy</a></li>\\n      </ul>\\n      </div>\\n    </div>\\n  </footer>\\n\\n    <div class=\\'elephpants\\'><div class=images></div></div>\\n <!-- External and third party libraries. -->\\n <script type=\"text/javascript\" src=\"//ajax.googleapis.com/ajax/libs/jquery/1.10.2/jquery.min.js\"></script>\\n<script type=\"text/javascript\" src=\"/cached.php?t=1421837618&amp;f=/js/ext/modernizr.js\"></script>\\n<script type=\"text/javascript\" src=\"/cached.php?t=1421837618&amp;f=/js/ext/hogan-2.0.0.min.js\"></script>\\n<script type=\"text/javascript\" src=\"/cached.php?t=1421837618&amp;f=/js/ext/typeahead.min.js\"></script>\\n<script type=\"text/javascript\" src=\"/cached.php?t=1421837618&amp;f=/js/ext/mousetrap.min.js\"></script>\\n<script type=\"text/javascript\" src=\"/cached.php?t=1421837618&amp;f=/js/search.js\"></script>\\n<script type=\"text/javascript\" src=\"/cached.php?t=1539765004&amp;f=/js/common.js\"></script>\\n\\n<a id=\"toTop\" href=\"javascript:;\"><span id=\"toTopHover\"></span><img width=\"40\" height=\"40\" alt=\"To Top\" src=\"/images/to-top@2x.png\"></a>\\n\\n</body>\\n</html>\\n'\n"
     ]
    }
   ],
   "source": [
    "import urllib.request\n",
    " \n",
    "response = urllib.request.urlopen('http://php.net/')\n",
    " \n",
    "html = response.read()\n",
    " \n",
    "print(html)"
   ]
  },
  {
   "cell_type": "markdown",
   "metadata": {},
   "source": [
    "As you can see from the printed output, the result contains a lot of HTML tags that need to be cleaned.\n",
    "\n",
    "We can use BeautifulSoup to clean the grabbed text:"
   ]
  },
  {
   "cell_type": "code",
   "execution_count": 4,
   "metadata": {},
   "outputs": [
    {
     "name": "stdout",
     "output_type": "stream",
     "text": [
      "PHP: Hypertext PreprocessorDownloadsDocumentationGet InvolvedHelpGetting StartedIntroductionA simple tutorialLanguage ReferenceBasic syntaxTypesVariablesConstantsExpressionsOperatorsControl StructuresFunctionsClasses and ObjectsNamespacesErrorsExceptionsGeneratorsReferences ExplainedPredefined VariablesPredefined ExceptionsPredefined Interfaces and ClassesContext options and parametersSupported Protocols and WrappersSecurityIntroductionGeneral considerationsInstalled as CGI binaryInstalled as an Apache moduleSession SecurityFilesystem SecurityDatabase SecurityError ReportingUsing Register GlobalsUser Submitted DataMagic QuotesHiding PHPKeeping CurrentFeaturesHTTP authentication with PHPCookiesSessionsDealing with XFormsHandling file uploadsUsing remote filesConnection handlingPersistent Database ConnectionsSafe ModeCommand line usageGarbage CollectionDTrace Dynamic TracingFunction ReferenceAffecting PHP's BehaviourAudio Formats ManipulationAuthentication ServicesCommand Line Specific ExtensionsCompression and Archive ExtensionsCredit Card ProcessingCryptography ExtensionsDatabase ExtensionsDate and Time Related ExtensionsFile System Related ExtensionsHuman Language and Character Encoding SupportImage Processing and GenerationMail Related ExtensionsMathematical ExtensionsNon-Text MIME OutputProcess Control ExtensionsOther Basic ExtensionsOther ServicesSearch Engine ExtensionsServer Specific ExtensionsSession ExtensionsText ProcessingVariable and Type Related ExtensionsWeb ServicesWindows Only ExtensionsXML ManipulationGUI ExtensionsKeyboard Shortcuts?This helpjNext menu itemkPrevious menu itemg pPrevious man pageg nNext man pageGScroll to bottomg gScroll to topg hGoto homepageg sGoto search(current page)/Focus search boxPHP is a popular general-purpose scripting language that is especially suited to web development.Fast, flexible and pragmatic, PHP powers everything from your blog to the most popular websites in the world.Download5.6.38·Release Notes·Upgrading7.0.32·Release Notes·Upgrading7.1.23·Release Notes·Upgrading7.2.11·Release Notes·Upgrading11 Oct 2018PHP 7.1.23 ReleasedThe PHP development team announces the immediate availability of PHP 7.1.23.\n",
      "     This is a bugfix release.All PHP 7.1 users are encouraged to upgrade to this version.For source downloads of PHP 7.1.23 please visit ourdownloads page,\n",
      "     Windows source and binaries can be found onwindows.php.net/download/.\n",
      "     The list of changes is recorded in theChangeLog.11 Oct 2018PHP 7.2.11 ReleasedThe PHP development team announces the immediate availability of PHP 7.2.11.\n",
      "     This is a bugfix release.All PHP 7.2 users are encouraged to upgrade to this version.For source downloads of PHP 7.2.11 please visit ourdownloads page,\n",
      "     Windows source and binaries can be found onwindows.php.net/download/.\n",
      "     The list of changes is recorded in theChangeLog.11 Oct 2018PHP 7.3.0RC3 ReleasedThe PHP team is glad to announce the next PHP 7.3.0 pre-release, PHP 7.3.0RC3.\n",
      "        The rough outline of the PHP 7.3 release cycle is specified in thePHP Wiki.For source downloads of PHP 7.3.0RC3 please visit thedownload page.\n",
      "        Windows sources and binaries can be found onwindows.php.net/qa/.Please carefully test this version and report any issues found in thebug reporting system.THIS IS A DEVELOPMENT PREVIEW - DO NOT USE IT IN PRODUCTION!For more information on the new features and other changes, you can read theNEWSfile,\n",
      "        or theUPGRADINGfile for a complete list of upgrading notes. Internal changes are listed in theUPGRADING.INTERNALSfile.\n",
      "        These files can also be found in the release archive.The next release would be RC4, planned for October 25th.The signatures for the release can be found inthe manifestor onthe QA site.Thank you for helping us make PHP better.28 Sep 2018PHP 7.3.0RC2 ReleasedThe PHP team is glad to announce the next PHP 7.3.0 pre-release, PHP 7.3.0RC2.\n",
      "        The rough outline of the PHP 7.3 release cycle is specified in thePHP Wiki.For source downloads of PHP 7.3.0RC2 please visit thedownload page.\n",
      "        Windows sources and binaries can be found onwindows.php.net/qa/.Please carefully test this version and report any issues found in thebug reporting system.THIS IS A DEVELOPMENT PREVIEW - DO NOT USE IT IN PRODUCTION!For more information on the new features and other changes, you can read theNEWSfile,\n",
      "        or theUPGRADINGfile for a complete list of upgrading notes. Internal changes are listed in theUPGRADING.INTERNALSfile.\n",
      "        These files can also be found in the release archive.The next release would be RC3, planned for October 11th.The signatures for the release can be found inthe manifestor onthe QA site.Thank you for helping us make PHP better.13 Sep 2018PHP 5.6.38 ReleasedThe PHP development team announces the immediate availability of PHP\n",
      "        5.6.38. This is a security release. One security bug has been fixed\n",
      "        in this release.\n",
      "\n",
      "     All PHP 5.6 users are encouraged to upgrade to this version.For source downloads of PHP 5.6.38 please visit ourdownloads page,\n",
      "     Windows source and binaries can be found onwindows.php.net/download/.\n",
      "     The list of changes is recorded in theChangeLog.13 Sep 2018PHP 7.1.22 ReleasedThe PHP development team announces the immediate availability of PHP\n",
      "     7.1.22. This is a security release. One security bug has been fixed\n",
      "     in this release.\n",
      "\n",
      "     All PHP 7.1 users are encouraged to upgrade to this version.For source downloads of PHP 7.1.22 please visit ourdownloads page,\n",
      "     Windows source and binaries can be found onwindows.php.net/download/.\n",
      "     The list of changes is recorded in theChangeLog.13 Sep 2018PHP 7.0.32 ReleasedThe PHP development team announces the immediate availability of PHP\n",
      "\t7.0.32. This is a security release. One security bug has been fixed\n",
      "\tin this release.\n",
      "\n",
      "     All PHP 7.0 users are encouraged to upgrade to this version.For source downloads of PHP 7.0.32 please visit ourdownloads page,\n",
      "     Windows source and binaries can be found onwindows.php.net/download/.\n",
      "     The list of changes is recorded in theChangeLog.13 Sep 2018PHP 7.3.0RC1 ReleasedThe PHP team is glad to announce the release of the next PHP 7.3.0 pre-release, PHP 7.3.0RC1.\n",
      "        The rough outline of the PHP 7.3 release cycle is specified in thePHP Wiki.For source downloads of PHP 7.3.0RC1 please visit thedownload page.\n",
      "        Windows sources and binaries can be found onwindows.php.net/qa/.Please carefully test this version and report any issues found in thebug reporting system.THIS IS A DEVELOPMENT PREVIEW - DO NOT USE IT IN PRODUCTION!For more information on the new features and other changes, you can read theNEWSfile,\n",
      "        or theUPGRADINGfile for a complete list of upgrading notes. Internal changes are listed in theUPGRADING.INTERNALSfile.\n",
      "        These files can also be found in the release archive.The next release would be RC2, planned for September 27th.The signatures for the release can be found inthe manifestor onthe QA site.Thank you for helping us make PHP better.13 Sep 2018PHP 7.2.10 ReleasedThe PHP development team announces the immediate availability of PHP\n",
      "     7.2.10. This is a security release which also contains several minor bug fixes.All PHP 7.2 users are encouraged to upgrade to this version.For source downloads of PHP 7.2.10 please visit ourdownloads page,\n",
      "     Windows source and binaries can be found onwindows.php.net/download/.\n",
      "     The list of changes is recorded in theChangeLog.30 Aug 2018PHP 7.3.0.beta3 ReleasedThe PHP team is glad to announce the release of the seventh PHP 7.3.0 version, PHP 7.3.0beta3.\n",
      "        The rough outline of the PHP 7.3 release cycle is specified in thePHP Wiki.For source downloads of PHP 7.3.0beta3 please visit thedownload page.\n",
      "        Windows sources and binaries can be found onwindows.php.net/qa/.Please carefully test this version and report any issues found in thebug reporting system.THIS IS A DEVELOPMENT PREVIEW - DO NOT USE IT IN PRODUCTION!For more information on the new features and other changes, you can read theNEWSfile,\n",
      "        or theUPGRADINGfile for a complete list of upgrading notes. Internal changes are listed in theUPGRADING.INTERNALSfile.\n",
      "        These files can also be found in the release archive.The next release would be RC1, planned for September 13th.The signatures for the release can be found inthe manifestor onthe QA site.Thank you for helping us make PHP better.16 Aug 2018PHP 7.3.0.beta2 ReleasedThe PHP team is glad to announce the release of the sixth PHP 7.3.0 version, PHP 7.3.0beta2.\n",
      "        The rough outline of the PHP 7.3 release cycle is specified in thePHP Wiki.For source downloads of PHP 7.3.0beta2 please visit thedownload page.\n",
      "        Windows sources and binaries can be found onwindows.php.net/qa/.Please carefully test this version and report any issues found in thebug reporting system.THIS IS A DEVELOPMENT PREVIEW - DO NOT USE IT IN PRODUCTION!For more information on the new features and other changes, you can read theNEWSfile,\n",
      "        or theUPGRADINGfile for a complete list of upgrading notes. Internal changes are listed in theUPGRADING.INTERNALSfile.\n",
      "        These files can also be found in the release archive.The next release would be Beta 3, planned for August 30th.The signatures for the release can be found inthe manifestor onthe QA site.Thank you for helping us make PHP better.02 Aug 2018PHP 7.3.0.beta1 ReleasedThe PHP team is glad to announce the release of the fifth PHP 7.3.0 version, PHP 7.3.0beta1.\n",
      "        The rough outline of the PHP 7.3 release cycle is specified in thePHP Wiki.For source downloads of PHP 7.3.0beta1 please visit thedownload page.\n",
      "        Windows sources and binaries can be found onwindows.php.net/qa/.Please carefully test this version and report any issues found in thebug reporting system.THIS IS A DEVELOPMENT PREVIEW - DO NOT USE IT IN PRODUCTION!For more information on the new features and other changes, you can read theNEWSfile,\n",
      "        or theUPGRADINGfile for a complete list of upgrading notes. These files can also be found in the release archive.The next release would be Beta 2, planned for August 16th.The signatures for the release can be found inthe manifestor onthe QA site.Thank you for helping us make PHP better.19 Jul 2018PHP 7.3.0alpha4 ReleasedThe PHP team is glad to announce the release of the fourth PHP 7.3.0 version, PHP 7.3.0alpha4.\n",
      "        The rough outline of the PHP 7.3 release cycle is specified in thePHP Wiki.For source downloads of PHP 7.3.0alpha4 please visit thedownload page.\n",
      "        Windows sources and binaries can be found onwindows.php.net/qa/.Please carefully test this version and report any issues found in thebug reporting system.THIS IS A DEVELOPMENT PREVIEW - DO NOT USE IT IN PRODUCTION!For more information on the new features and other changes, you can read theNEWSfile,\n",
      "        or theUPGRADINGfile for a complete list of upgrading notes. These files can also be found in the release archive.The next release would be Beta 1, planned for August 2nd.The signatures for the release can be found inthe manifestor onthe QA site.Thank you for helping us make PHP better.05 Jul 2018PHP 7.3.0 alpha 3 ReleasedThe PHP team is glad to announce the release of the third PHP 7.3.0 version, PHP 7.3.0 Alpha 3.\n",
      "      The rough outline of the PHP 7.3 release cycle is specified in thePHP Wiki.For source downloads of PHP 7.3.0 Alpha 3 please visit thedownload page.\n",
      "      Windows sources and binaries can be found onwindows.php.net/qa/.Please carefully test this version and report any issues found in thebug reporting system.THIS IS A DEVELOPMENT PREVIEW - DO NOT USE IT IN PRODUCTION!For more information on the new features and other changes, you can read theNEWSfile,\n",
      "      or theUPGRADINGfile for a complete list of upgrading notes. These files can also be found in the release archive.The next release would be Beta 1, planned for July 19th.The signatures for the release can be found inthe manifestor onthe QA site.Thank you for helping us make PHP better.21 Jun 2018PHP 7.3.0 alpha 2 ReleasedThe PHP team is glad to announce the release of the second PHP 7.3.0 version, PHP 7.3.0 Alpha 2.\n",
      "      The rough outline of the PHP 7.3 release cycle is specified in thePHP Wiki.For source downloads of PHP 7.3.0 Alpha 2 please visit thedownload page.\n",
      "      Windows sources and binaries can be found onwindows.php.net/qa/.Please carefully test this version and report any issues found in thebug reporting system.THIS IS A DEVELOPMENT PREVIEW - DO NOT USE IT IN PRODUCTION!For more information on the new features and other changes, you can read theNEWSfile,\n",
      "      or theUPGRADINGfile for a complete list of upgrading notes. These files can also be found in the release archive.The next release would be Alpha 3, planned for July 5.The signatures for the release can be found inthe manifestor onthe QA site.Thank you for helping us make PHP better.07 Jun 2018PHP 7.3.0 alpha 1 ReleasedPHP team is glad to announce the release of the first PHP 7.3.0 version, PHP 7.3.0 Alpha 1.\n",
      "\t This starts the PHP 7.3 release cycle, the rough outline of which is specified in thePHP Wiki.For source downloads of PHP 7.3.0 Alpha 1 please visit thedownload page.Please carefully test this version and report any issues found in thebug reporting system.Please DO NOT use this version in production, it is an early test version.For more information on the new features and other changes, you can read theNEWSfile,\n",
      "\t     or theUPGRADINGfile for a complete list of upgrading notes. These files can also be found in the release archive.The next release would be Alpha 2, planned for June 21.The signatures for the release can be found inthe manifestor onthe QA site.Thank you for helping us make PHP better.01 Feb 2018PHP 7.2.2 ReleasedThe PHP development team announces the immediate availability of PHP\n",
      "      7.2.2. This is a bugfix release, with several bug fixes included.All PHP 7.2 users are encouraged to upgrade to this version.For source downloads of PHP 7.2.2 please visit ourdownloads page,\n",
      "      Windows source and binaries can be found onwindows.php.net/download/.\n",
      "      The list of changes is recorded in theChangeLog.12 Oct 2017PHP 7.2.0 Release Candidate 4 ReleasedThe PHP development team announces the immediate availability of PHP 7.2.0 RC4.\n",
      "     This release is the fourth Release Candidate for 7.2.0.\n",
      "     All users of PHP are encouraged to test this version carefully, and report any bugs\n",
      "     and incompatibilities in thebug tracking system.THIS IS A DEVELOPMENT PREVIEW - DO NOT USE IT IN PRODUCTION!For more information on the new features and other changes, you can read theNEWSfile,\n",
      "     or theUPGRADINGfile for a complete list of upgrading notes. These files can also be found in the release archive.For source downloads of PHP 7.2.0 Release Candidate 4 please visit thedownloadpage,\n",
      "     Windows sources and binaries can be found atwindows.php.net/qa/.The next Release Candidate will be announced on the 26th of October.\n",
      "     You can also read the full list of planned releases onour wiki.Thank you for helping us make PHP better.28 Sep 2017PHP 7.2.0 Release Candidate 3 ReleasedThe PHP development team announces the immediate availability of PHP 7.2.0 RC3.\n",
      "     This release is the third Release Candidate for 7.2.0.\n",
      "     All users of PHP are encouraged to test this version carefully, and report any bugs\n",
      "     and incompatibilities in thebug tracking system.THIS IS A DEVELOPMENT PREVIEW - DO NOT USE IT IN PRODUCTION!For more information on the new features and other changes, you can read theNEWSfile,\n",
      "     or theUPGRADINGfile for a complete list of upgrading notes. These files can also be found in the release archive.For source downloads of PHP 7.2.0 Release Candidate 3 please visit thedownloadpage,\n",
      "     Windows sources and binaries can be found atwindows.php.net/qa/.The next Release Candidate will be announced on the 12th of October.\n",
      "     You can also read the full list of planned releases onour wiki.Thank you for helping us make PHP better.31 Aug 2017PHP 7.2.0 Release Candidate 1 ReleasedThe PHP development team announces the immediate availability of PHP 7.2.0 Release\n",
      "      Candidate 1. This release is the first Release Candidate for 7.2.0.\n",
      "      All users of PHP are encouraged to test this version carefully, and report any bugs\n",
      "      and incompatibilities in thebug tracking system.THIS IS A DEVELOPMENT PREVIEW - DO NOT USE IT IN PRODUCTION!For more information on the new features and other changes, you can read theNEWSfile,\n",
      "      or theUPGRADINGfile for a complete list of upgrading notes. These files can also be found in the release archive.For source downloads of PHP 7.2.0 Release Candidate 1 please visit thedownloadpage,\n",
      "      Windows sources and binaries can be found atwindows.php.net/qa/.The second Release Candidate will be released on the 14th of September.\n",
      "      You can also read the full list of planned releases onour wiki.Thank you for helping us make PHP better.17 Aug 2017PHP 7.2.0 Beta 3 ReleasedThe PHP development team announces the immediate availability of PHP 7.2.0 Beta 3.\n",
      "      This release is the third and final beta for 7.2.0. All users of PHP are encouraged\n",
      "      to test this version carefully, and report any bugs and incompatibilities in thebug tracking system.THIS IS A DEVELOPMENT PREVIEW - DO NOT USE IT IN PRODUCTION!For more information on the new features and other changes, you can read theNEWSfile,\n",
      "      or theUPGRADINGfile for a complete list of upgrading notes. These files can also be found in the release archive.For source downloads of PHP 7.2.0 Beta 3 please visit thedownloadpage,\n",
      "      Windows sources and binaries can be found atwindows.php.net/qa/.The first Release Candidate will be released on the 31th of August.\n",
      "      You can also read the full list of planned releases onour wiki.Thank you for helping us make PHP better.06 Jul 2017PHP 7.2.0 Alpha 3 ReleasedThe PHP development team announces the immediate availability of PHP 7.2.0 Alpha 3.\n",
      "     This release contains fixes and improvements relative to Alpha 2.\n",
      "     All users of PHP are encouraged to test this version carefully,\n",
      "     and report any bugs and incompatibilities in thebug tracking system.THIS IS A DEVELOPMENT PREVIEW - DO NOT USE IT IN PRODUCTION!For information on new features and other changes, you can read theNEWSfile,\n",
      "     or theUPGRADINGfile\n",
      "     for a complete list of upgrading notes. These files can also be found in the release archive.For source downloads of PHP 7.2.0 Alpha 3 please visit thedownloadpage,\n",
      "     Windows sources and binaries can be found onwindows.php.net/qa/.The first beta will be released on the 20th of July. You can also read the full list of planned releases on ourwiki.Thank you for helping us make PHP better.Older News EntriesUpcoming conferencesInternational PHP Conference 2019 - Spring EditionLonghorn PHP 2019 CFP is open!php[world] 2018SymfonyCon Lisbon 2018User Group EventsSpecial ThanksSocial media@official_phpCopyright © 2001-2018 The PHP GroupMy PHP.netContactOther PHP.net sitesMirror sitesPrivacy policy\n"
     ]
    }
   ],
   "source": [
    "from bs4 import BeautifulSoup\n",
    " \n",
    "import urllib.request\n",
    " \n",
    "response = urllib.request.urlopen('http://php.net/')\n",
    " \n",
    "html = response.read()\n",
    " \n",
    "soup = BeautifulSoup(html,\"html5lib\")\n",
    " \n",
    "text = soup.get_text(strip=True)\n",
    " \n",
    "print(text)"
   ]
  },
  {
   "cell_type": "markdown",
   "metadata": {},
   "source": [
    "After obtained a clean text from the crawled web page. Let’s convert that text into tokens by splitting the text like this:"
   ]
  },
  {
   "cell_type": "code",
   "execution_count": 5,
   "metadata": {},
   "outputs": [
    {
     "name": "stdout",
     "output_type": "stream",
     "text": [
      "['php:', 'hypertext', 'preprocessordownloadsdocumentationget', 'involvedhelpgetting', 'startedintroductiona', 'simple', 'tutoriallanguage', 'referencebasic', 'syntaxtypesvariablesconstantsexpressionsoperatorscontrol', 'structuresfunctionsclasses', 'and', 'objectsnamespaceserrorsexceptionsgeneratorsreferences', 'explainedpredefined', 'variablespredefined', 'exceptionspredefined', 'interfaces', 'and', 'classescontext', 'options', 'and', 'parameterssupported', 'protocols', 'and', 'wrapperssecurityintroductiongeneral', 'considerationsinstalled', 'as', 'cgi', 'binaryinstalled', 'as', 'an', 'apache', 'modulesession', 'securityfilesystem', 'securitydatabase', 'securityerror', 'reportingusing', 'register', 'globalsuser', 'submitted', 'datamagic', 'quoteshiding', 'phpkeeping', 'currentfeatureshttp', 'authentication', 'with', 'phpcookiessessionsdealing', 'with', 'xformshandling', 'file', 'uploadsusing', 'remote', 'filesconnection', 'handlingpersistent', 'database', 'connectionssafe', 'modecommand', 'line', 'usagegarbage', 'collectiondtrace', 'dynamic', 'tracingfunction', 'referenceaffecting', \"php's\", 'behaviouraudio', 'formats', 'manipulationauthentication', 'servicescommand', 'line', 'specific', 'extensionscompression', 'and', 'archive', 'extensionscredit', 'card', 'processingcryptography', 'extensionsdatabase', 'extensionsdate', 'and', 'time', 'related', 'extensionsfile', 'system', 'related', 'extensionshuman', 'language', 'and', 'character', 'encoding', 'supportimage', 'processing', 'and', 'generationmail', 'related', 'extensionsmathematical', 'extensionsnon-text', 'mime', 'outputprocess', 'control', 'extensionsother', 'basic', 'extensionsother', 'servicessearch', 'engine', 'extensionsserver', 'specific', 'extensionssession', 'extensionstext', 'processingvariable', 'and', 'type', 'related', 'extensionsweb', 'serviceswindows', 'only', 'extensionsxml', 'manipulationgui', 'extensionskeyboard', 'shortcuts?this', 'helpjnext', 'menu', 'itemkprevious', 'menu', 'itemg', 'pprevious', 'man', 'pageg', 'nnext', 'man', 'pagegscroll', 'to', 'bottomg', 'gscroll', 'to', 'topg', 'hgoto', 'homepageg', 'sgoto', 'search(current', 'page)/focus', 'search', 'boxphp', 'is', 'a', 'popular', 'general-purpose', 'scripting', 'language', 'that', 'is', 'especially', 'suited', 'to', 'web', 'development.fast,', 'flexible', 'and', 'pragmatic,', 'php', 'powers', 'everything', 'from', 'your', 'blog', 'to', 'the', 'most', 'popular', 'websites', 'in', 'the', 'world.download5.6.38·release', 'notes·upgrading7.0.32·release', 'notes·upgrading7.1.23·release', 'notes·upgrading7.2.11·release', 'notes·upgrading11', 'oct', '2018php', '7.1.23', 'releasedthe', 'php', 'development', 'team', 'announces', 'the', 'immediate', 'availability', 'of', 'php', '7.1.23.', 'this', 'is', 'a', 'bugfix', 'release.all', 'php', '7.1', 'users', 'are', 'encouraged', 'to', 'upgrade', 'to', 'this', 'version.for', 'source', 'downloads', 'of', 'php', '7.1.23', 'please', 'visit', 'ourdownloads', 'page,', 'windows', 'source', 'and', 'binaries', 'can', 'be', 'found', 'onwindows.php.net/download/.', 'the', 'list', 'of', 'changes', 'is', 'recorded', 'in', 'thechangelog.11', 'oct', '2018php', '7.2.11', 'releasedthe', 'php', 'development', 'team', 'announces', 'the', 'immediate', 'availability', 'of', 'php', '7.2.11.', 'this', 'is', 'a', 'bugfix', 'release.all', 'php', '7.2', 'users', 'are', 'encouraged', 'to', 'upgrade', 'to', 'this', 'version.for', 'source', 'downloads', 'of', 'php', '7.2.11', 'please', 'visit', 'ourdownloads', 'page,', 'windows', 'source', 'and', 'binaries', 'can', 'be', 'found', 'onwindows.php.net/download/.', 'the', 'list', 'of', 'changes', 'is', 'recorded', 'in', 'thechangelog.11', 'oct', '2018php', '7.3.0rc3', 'releasedthe', 'php', 'team', 'is', 'glad', 'to', 'announce', 'the', 'next', 'php', '7.3.0', 'pre-release,', 'php', '7.3.0rc3.', 'the', 'rough', 'outline', 'of', 'the', 'php', '7.3', 'release', 'cycle', 'is', 'specified', 'in', 'thephp', 'wiki.for', 'source', 'downloads', 'of', 'php', '7.3.0rc3', 'please', 'visit', 'thedownload', 'page.', 'windows', 'sources', 'and', 'binaries', 'can', 'be', 'found', 'onwindows.php.net/qa/.please', 'carefully', 'test', 'this', 'version', 'and', 'report', 'any', 'issues', 'found', 'in', 'thebug', 'reporting', 'system.this', 'is', 'a', 'development', 'preview', '-', 'do', 'not', 'use', 'it', 'in', 'production!for', 'more', 'information', 'on', 'the', 'new', 'features', 'and', 'other', 'changes,', 'you', 'can', 'read', 'thenewsfile,', 'or', 'theupgradingfile', 'for', 'a', 'complete', 'list', 'of', 'upgrading', 'notes.', 'internal', 'changes', 'are', 'listed', 'in', 'theupgrading.internalsfile.', 'these', 'files', 'can', 'also', 'be', 'found', 'in', 'the', 'release', 'archive.the', 'next', 'release', 'would', 'be', 'rc4,', 'planned', 'for', 'october', '25th.the', 'signatures', 'for', 'the', 'release', 'can', 'be', 'found', 'inthe', 'manifestor', 'onthe', 'qa', 'site.thank', 'you', 'for', 'helping', 'us', 'make', 'php', 'better.28', 'sep', '2018php', '7.3.0rc2', 'releasedthe', 'php', 'team', 'is', 'glad', 'to', 'announce', 'the', 'next', 'php', '7.3.0', 'pre-release,', 'php', '7.3.0rc2.', 'the', 'rough', 'outline', 'of', 'the', 'php', '7.3', 'release', 'cycle', 'is', 'specified', 'in', 'thephp', 'wiki.for', 'source', 'downloads', 'of', 'php', '7.3.0rc2', 'please', 'visit', 'thedownload', 'page.', 'windows', 'sources', 'and', 'binaries', 'can', 'be', 'found', 'onwindows.php.net/qa/.please', 'carefully', 'test', 'this', 'version', 'and', 'report', 'any', 'issues', 'found', 'in', 'thebug', 'reporting', 'system.this', 'is', 'a', 'development', 'preview', '-', 'do', 'not', 'use', 'it', 'in', 'production!for', 'more', 'information', 'on', 'the', 'new', 'features', 'and', 'other', 'changes,', 'you', 'can', 'read', 'thenewsfile,', 'or', 'theupgradingfile', 'for', 'a', 'complete', 'list', 'of', 'upgrading', 'notes.', 'internal', 'changes', 'are', 'listed', 'in', 'theupgrading.internalsfile.', 'these', 'files', 'can', 'also', 'be', 'found', 'in', 'the', 'release', 'archive.the', 'next', 'release', 'would', 'be', 'rc3,', 'planned', 'for', 'october', '11th.the', 'signatures', 'for', 'the', 'release', 'can', 'be', 'found', 'inthe', 'manifestor', 'onthe', 'qa', 'site.thank', 'you', 'for', 'helping', 'us', 'make', 'php', 'better.13', 'sep', '2018php', '5.6.38', 'releasedthe', 'php', 'development', 'team', 'announces', 'the', 'immediate', 'availability', 'of', 'php', '5.6.38.', 'this', 'is', 'a', 'security', 'release.', 'one', 'security', 'bug', 'has', 'been', 'fixed', 'in', 'this', 'release.', 'all', 'php', '5.6', 'users', 'are', 'encouraged', 'to', 'upgrade', 'to', 'this', 'version.for', 'source', 'downloads', 'of', 'php', '5.6.38', 'please', 'visit', 'ourdownloads', 'page,', 'windows', 'source', 'and', 'binaries', 'can', 'be', 'found', 'onwindows.php.net/download/.', 'the', 'list', 'of', 'changes', 'is', 'recorded', 'in', 'thechangelog.13', 'sep', '2018php', '7.1.22', 'releasedthe', 'php', 'development', 'team', 'announces', 'the', 'immediate', 'availability', 'of', 'php', '7.1.22.', 'this', 'is', 'a', 'security', 'release.', 'one', 'security', 'bug', 'has', 'been', 'fixed', 'in', 'this', 'release.', 'all', 'php', '7.1', 'users', 'are', 'encouraged', 'to', 'upgrade', 'to', 'this', 'version.for', 'source', 'downloads', 'of', 'php', '7.1.22', 'please', 'visit', 'ourdownloads', 'page,', 'windows', 'source', 'and', 'binaries', 'can', 'be', 'found', 'onwindows.php.net/download/.', 'the', 'list', 'of', 'changes', 'is', 'recorded', 'in', 'thechangelog.13', 'sep', '2018php', '7.0.32', 'releasedthe', 'php', 'development', 'team', 'announces', 'the', 'immediate', 'availability', 'of', 'php', '7.0.32.', 'this', 'is', 'a', 'security', 'release.', 'one', 'security', 'bug', 'has', 'been', 'fixed', 'in', 'this', 'release.', 'all', 'php', '7.0', 'users', 'are', 'encouraged', 'to', 'upgrade', 'to', 'this', 'version.for', 'source', 'downloads', 'of', 'php', '7.0.32', 'please', 'visit', 'ourdownloads', 'page,', 'windows', 'source', 'and', 'binaries', 'can', 'be', 'found', 'onwindows.php.net/download/.', 'the', 'list', 'of', 'changes', 'is', 'recorded', 'in', 'thechangelog.13', 'sep', '2018php', '7.3.0rc1', 'releasedthe', 'php', 'team', 'is', 'glad', 'to', 'announce', 'the', 'release', 'of', 'the', 'next', 'php', '7.3.0', 'pre-release,', 'php', '7.3.0rc1.', 'the', 'rough', 'outline', 'of', 'the', 'php', '7.3', 'release', 'cycle', 'is', 'specified', 'in', 'thephp', 'wiki.for', 'source', 'downloads', 'of', 'php', '7.3.0rc1', 'please', 'visit', 'thedownload', 'page.', 'windows', 'sources', 'and', 'binaries', 'can', 'be', 'found', 'onwindows.php.net/qa/.please', 'carefully', 'test', 'this', 'version', 'and', 'report', 'any', 'issues', 'found', 'in', 'thebug', 'reporting', 'system.this', 'is', 'a', 'development', 'preview', '-', 'do', 'not', 'use', 'it', 'in', 'production!for', 'more', 'information', 'on', 'the', 'new', 'features', 'and', 'other', 'changes,', 'you', 'can', 'read', 'thenewsfile,', 'or', 'theupgradingfile', 'for', 'a', 'complete', 'list', 'of', 'upgrading', 'notes.', 'internal', 'changes', 'are', 'listed', 'in', 'theupgrading.internalsfile.', 'these', 'files', 'can', 'also', 'be', 'found', 'in', 'the', 'release', 'archive.the', 'next', 'release', 'would', 'be', 'rc2,', 'planned', 'for', 'september', '27th.the', 'signatures', 'for', 'the', 'release', 'can', 'be', 'found', 'inthe', 'manifestor', 'onthe', 'qa', 'site.thank', 'you', 'for', 'helping', 'us', 'make', 'php', 'better.13', 'sep', '2018php', '7.2.10', 'releasedthe', 'php', 'development', 'team', 'announces', 'the', 'immediate', 'availability', 'of', 'php', '7.2.10.', 'this', 'is', 'a', 'security', 'release', 'which', 'also', 'contains', 'several', 'minor', 'bug', 'fixes.all', 'php', '7.2', 'users', 'are', 'encouraged', 'to', 'upgrade', 'to', 'this', 'version.for', 'source', 'downloads', 'of', 'php', '7.2.10', 'please', 'visit', 'ourdownloads', 'page,', 'windows', 'source', 'and', 'binaries', 'can', 'be', 'found', 'onwindows.php.net/download/.', 'the', 'list', 'of', 'changes', 'is', 'recorded', 'in', 'thechangelog.30', 'aug', '2018php', '7.3.0.beta3', 'releasedthe', 'php', 'team', 'is', 'glad', 'to', 'announce', 'the', 'release', 'of', 'the', 'seventh', 'php', '7.3.0', 'version,', 'php', '7.3.0beta3.', 'the', 'rough', 'outline', 'of', 'the', 'php', '7.3', 'release', 'cycle', 'is', 'specified', 'in', 'thephp', 'wiki.for', 'source', 'downloads', 'of', 'php', '7.3.0beta3', 'please', 'visit', 'thedownload', 'page.', 'windows', 'sources', 'and', 'binaries', 'can', 'be', 'found', 'onwindows.php.net/qa/.please', 'carefully', 'test', 'this', 'version', 'and', 'report', 'any', 'issues', 'found', 'in', 'thebug', 'reporting', 'system.this', 'is', 'a', 'development', 'preview', '-', 'do', 'not', 'use', 'it', 'in', 'production!for', 'more', 'information', 'on', 'the', 'new', 'features', 'and', 'other', 'changes,', 'you', 'can', 'read', 'thenewsfile,', 'or', 'theupgradingfile', 'for', 'a', 'complete', 'list', 'of', 'upgrading', 'notes.', 'internal', 'changes', 'are', 'listed', 'in', 'theupgrading.internalsfile.', 'these', 'files', 'can', 'also', 'be', 'found', 'in', 'the', 'release', 'archive.the', 'next', 'release', 'would', 'be', 'rc1,', 'planned', 'for', 'september', '13th.the', 'signatures', 'for', 'the', 'release', 'can', 'be', 'found', 'inthe', 'manifestor', 'onthe', 'qa', 'site.thank', 'you', 'for', 'helping', 'us', 'make', 'php', 'better.16', 'aug', '2018php', '7.3.0.beta2', 'releasedthe', 'php', 'team', 'is', 'glad', 'to', 'announce', 'the', 'release', 'of', 'the', 'sixth', 'php', '7.3.0', 'version,', 'php', '7.3.0beta2.', 'the', 'rough', 'outline', 'of', 'the', 'php', '7.3', 'release', 'cycle', 'is', 'specified', 'in', 'thephp', 'wiki.for', 'source', 'downloads', 'of', 'php', '7.3.0beta2', 'please', 'visit', 'thedownload', 'page.', 'windows', 'sources', 'and', 'binaries', 'can', 'be', 'found', 'onwindows.php.net/qa/.please', 'carefully', 'test', 'this', 'version', 'and', 'report', 'any', 'issues', 'found', 'in', 'thebug', 'reporting', 'system.this', 'is', 'a', 'development', 'preview', '-', 'do', 'not', 'use', 'it', 'in', 'production!for', 'more', 'information', 'on', 'the', 'new', 'features', 'and', 'other', 'changes,', 'you', 'can', 'read', 'thenewsfile,', 'or', 'theupgradingfile', 'for', 'a', 'complete', 'list', 'of', 'upgrading', 'notes.', 'internal', 'changes', 'are', 'listed', 'in', 'theupgrading.internalsfile.', 'these', 'files', 'can', 'also', 'be', 'found', 'in', 'the', 'release', 'archive.the', 'next', 'release', 'would', 'be', 'beta', '3,', 'planned', 'for', 'august', '30th.the', 'signatures', 'for', 'the', 'release', 'can', 'be', 'found', 'inthe', 'manifestor', 'onthe', 'qa', 'site.thank', 'you', 'for', 'helping', 'us', 'make', 'php', 'better.02', 'aug', '2018php', '7.3.0.beta1', 'releasedthe', 'php', 'team', 'is', 'glad', 'to', 'announce', 'the', 'release', 'of', 'the', 'fifth', 'php', '7.3.0', 'version,', 'php', '7.3.0beta1.', 'the', 'rough', 'outline', 'of', 'the', 'php', '7.3', 'release', 'cycle', 'is', 'specified', 'in', 'thephp', 'wiki.for', 'source', 'downloads', 'of', 'php', '7.3.0beta1', 'please', 'visit', 'thedownload', 'page.', 'windows', 'sources', 'and', 'binaries', 'can', 'be', 'found', 'onwindows.php.net/qa/.please', 'carefully', 'test', 'this', 'version', 'and', 'report', 'any', 'issues', 'found', 'in', 'thebug', 'reporting', 'system.this', 'is', 'a', 'development', 'preview', '-', 'do', 'not', 'use', 'it', 'in', 'production!for', 'more', 'information', 'on', 'the', 'new', 'features', 'and', 'other', 'changes,', 'you', 'can', 'read', 'thenewsfile,', 'or', 'theupgradingfile', 'for', 'a', 'complete', 'list', 'of', 'upgrading', 'notes.', 'these', 'files', 'can', 'also', 'be', 'found', 'in', 'the', 'release', 'archive.the', 'next', 'release', 'would', 'be', 'beta', '2,', 'planned', 'for', 'august', '16th.the', 'signatures', 'for', 'the', 'release', 'can', 'be', 'found', 'inthe', 'manifestor', 'onthe', 'qa', 'site.thank', 'you', 'for', 'helping', 'us', 'make', 'php', 'better.19', 'jul', '2018php', '7.3.0alpha4', 'releasedthe', 'php', 'team', 'is', 'glad', 'to', 'announce', 'the', 'release', 'of', 'the', 'fourth', 'php', '7.3.0', 'version,', 'php', '7.3.0alpha4.', 'the', 'rough', 'outline', 'of', 'the', 'php', '7.3', 'release', 'cycle', 'is', 'specified', 'in', 'thephp', 'wiki.for', 'source', 'downloads', 'of', 'php', '7.3.0alpha4', 'please', 'visit', 'thedownload', 'page.', 'windows', 'sources', 'and', 'binaries', 'can', 'be', 'found', 'onwindows.php.net/qa/.please', 'carefully', 'test', 'this', 'version', 'and', 'report', 'any', 'issues', 'found', 'in', 'thebug', 'reporting', 'system.this', 'is', 'a', 'development', 'preview', '-', 'do', 'not', 'use', 'it', 'in', 'production!for', 'more', 'information', 'on', 'the', 'new', 'features', 'and', 'other', 'changes,', 'you', 'can', 'read', 'thenewsfile,', 'or', 'theupgradingfile', 'for', 'a', 'complete', 'list', 'of', 'upgrading', 'notes.', 'these', 'files', 'can', 'also', 'be', 'found', 'in', 'the', 'release', 'archive.the', 'next', 'release', 'would', 'be', 'beta', '1,', 'planned', 'for', 'august', '2nd.the', 'signatures', 'for', 'the', 'release', 'can', 'be', 'found', 'inthe', 'manifestor', 'onthe', 'qa', 'site.thank', 'you', 'for', 'helping', 'us', 'make', 'php', 'better.05', 'jul', '2018php', '7.3.0', 'alpha', '3', 'releasedthe', 'php', 'team', 'is', 'glad', 'to', 'announce', 'the', 'release', 'of', 'the', 'third', 'php', '7.3.0', 'version,', 'php', '7.3.0', 'alpha', '3.', 'the', 'rough', 'outline', 'of', 'the', 'php', '7.3', 'release', 'cycle', 'is', 'specified', 'in', 'thephp', 'wiki.for', 'source', 'downloads', 'of', 'php', '7.3.0', 'alpha', '3', 'please', 'visit', 'thedownload', 'page.', 'windows', 'sources', 'and', 'binaries', 'can', 'be', 'found', 'onwindows.php.net/qa/.please', 'carefully', 'test', 'this', 'version', 'and', 'report', 'any', 'issues', 'found', 'in', 'thebug', 'reporting', 'system.this', 'is', 'a', 'development', 'preview', '-', 'do', 'not', 'use', 'it', 'in', 'production!for', 'more', 'information', 'on', 'the', 'new', 'features', 'and', 'other', 'changes,', 'you', 'can', 'read', 'thenewsfile,', 'or', 'theupgradingfile', 'for', 'a', 'complete', 'list', 'of', 'upgrading', 'notes.', 'these', 'files', 'can', 'also', 'be', 'found', 'in', 'the', 'release', 'archive.the', 'next', 'release', 'would', 'be', 'beta', '1,', 'planned', 'for', 'july', '19th.the', 'signatures', 'for', 'the', 'release', 'can', 'be', 'found', 'inthe', 'manifestor', 'onthe', 'qa', 'site.thank', 'you', 'for', 'helping', 'us', 'make', 'php', 'better.21', 'jun', '2018php', '7.3.0', 'alpha', '2', 'releasedthe', 'php', 'team', 'is', 'glad', 'to', 'announce', 'the', 'release', 'of', 'the', 'second', 'php', '7.3.0', 'version,', 'php', '7.3.0', 'alpha', '2.', 'the', 'rough', 'outline', 'of', 'the', 'php', '7.3', 'release', 'cycle', 'is', 'specified', 'in', 'thephp', 'wiki.for', 'source', 'downloads', 'of', 'php', '7.3.0', 'alpha', '2', 'please', 'visit', 'thedownload', 'page.', 'windows', 'sources', 'and', 'binaries', 'can', 'be', 'found', 'onwindows.php.net/qa/.please', 'carefully', 'test', 'this', 'version', 'and', 'report', 'any', 'issues', 'found', 'in', 'thebug', 'reporting', 'system.this', 'is', 'a', 'development', 'preview', '-', 'do', 'not', 'use', 'it', 'in', 'production!for', 'more', 'information', 'on', 'the', 'new', 'features', 'and', 'other', 'changes,', 'you', 'can', 'read', 'thenewsfile,', 'or', 'theupgradingfile', 'for', 'a', 'complete', 'list', 'of', 'upgrading', 'notes.', 'these', 'files', 'can', 'also', 'be', 'found', 'in', 'the', 'release', 'archive.the', 'next', 'release', 'would', 'be', 'alpha', '3,', 'planned', 'for', 'july', '5.the', 'signatures', 'for', 'the', 'release', 'can', 'be', 'found', 'inthe', 'manifestor', 'onthe', 'qa', 'site.thank', 'you', 'for', 'helping', 'us', 'make', 'php', 'better.07', 'jun', '2018php', '7.3.0', 'alpha', '1', 'releasedphp', 'team', 'is', 'glad', 'to', 'announce', 'the', 'release', 'of', 'the', 'first', 'php', '7.3.0', 'version,', 'php', '7.3.0', 'alpha', '1.', 'this', 'starts', 'the', 'php', '7.3', 'release', 'cycle,', 'the', 'rough', 'outline', 'of', 'which', 'is', 'specified', 'in', 'thephp', 'wiki.for', 'source', 'downloads', 'of', 'php', '7.3.0', 'alpha', '1', 'please', 'visit', 'thedownload', 'page.please', 'carefully', 'test', 'this', 'version', 'and', 'report', 'any', 'issues', 'found', 'in', 'thebug', 'reporting', 'system.please', 'do', 'not', 'use', 'this', 'version', 'in', 'production,', 'it', 'is', 'an', 'early', 'test', 'version.for', 'more', 'information', 'on', 'the', 'new', 'features', 'and', 'other', 'changes,', 'you', 'can', 'read', 'thenewsfile,', 'or', 'theupgradingfile', 'for', 'a', 'complete', 'list', 'of', 'upgrading', 'notes.', 'these', 'files', 'can', 'also', 'be', 'found', 'in', 'the', 'release', 'archive.the', 'next', 'release', 'would', 'be', 'alpha', '2,', 'planned', 'for', 'june', '21.the', 'signatures', 'for', 'the', 'release', 'can', 'be', 'found', 'inthe', 'manifestor', 'onthe', 'qa', 'site.thank', 'you', 'for', 'helping', 'us', 'make', 'php', 'better.01', 'feb', '2018php', '7.2.2', 'releasedthe', 'php', 'development', 'team', 'announces', 'the', 'immediate', 'availability', 'of', 'php', '7.2.2.', 'this', 'is', 'a', 'bugfix', 'release,', 'with', 'several', 'bug', 'fixes', 'included.all', 'php', '7.2', 'users', 'are', 'encouraged', 'to', 'upgrade', 'to', 'this', 'version.for', 'source', 'downloads', 'of', 'php', '7.2.2', 'please', 'visit', 'ourdownloads', 'page,', 'windows', 'source', 'and', 'binaries', 'can', 'be', 'found', 'onwindows.php.net/download/.', 'the', 'list', 'of', 'changes', 'is', 'recorded', 'in', 'thechangelog.12', 'oct', '2017php', '7.2.0', 'release', 'candidate', '4', 'releasedthe', 'php', 'development', 'team', 'announces', 'the', 'immediate', 'availability', 'of', 'php', '7.2.0', 'rc4.', 'this', 'release', 'is', 'the', 'fourth', 'release', 'candidate', 'for', '7.2.0.', 'all', 'users', 'of', 'php', 'are', 'encouraged', 'to', 'test', 'this', 'version', 'carefully,', 'and', 'report', 'any', 'bugs', 'and', 'incompatibilities', 'in', 'thebug', 'tracking', 'system.this', 'is', 'a', 'development', 'preview', '-', 'do', 'not', 'use', 'it', 'in', 'production!for', 'more', 'information', 'on', 'the', 'new', 'features', 'and', 'other', 'changes,', 'you', 'can', 'read', 'thenewsfile,', 'or', 'theupgradingfile', 'for', 'a', 'complete', 'list', 'of', 'upgrading', 'notes.', 'these', 'files', 'can', 'also', 'be', 'found', 'in', 'the', 'release', 'archive.for', 'source', 'downloads', 'of', 'php', '7.2.0', 'release', 'candidate', '4', 'please', 'visit', 'thedownloadpage,', 'windows', 'sources', 'and', 'binaries', 'can', 'be', 'found', 'atwindows.php.net/qa/.the', 'next', 'release', 'candidate', 'will', 'be', 'announced', 'on', 'the', '26th', 'of', 'october.', 'you', 'can', 'also', 'read', 'the', 'full', 'list', 'of', 'planned', 'releases', 'onour', 'wiki.thank', 'you', 'for', 'helping', 'us', 'make', 'php', 'better.28', 'sep', '2017php', '7.2.0', 'release', 'candidate', '3', 'releasedthe', 'php', 'development', 'team', 'announces', 'the', 'immediate', 'availability', 'of', 'php', '7.2.0', 'rc3.', 'this', 'release', 'is', 'the', 'third', 'release', 'candidate', 'for', '7.2.0.', 'all', 'users', 'of', 'php', 'are', 'encouraged', 'to', 'test', 'this', 'version', 'carefully,', 'and', 'report', 'any', 'bugs', 'and', 'incompatibilities', 'in', 'thebug', 'tracking', 'system.this', 'is', 'a', 'development', 'preview', '-', 'do', 'not', 'use', 'it', 'in', 'production!for', 'more', 'information', 'on', 'the', 'new', 'features', 'and', 'other', 'changes,', 'you', 'can', 'read', 'thenewsfile,', 'or', 'theupgradingfile', 'for', 'a', 'complete', 'list', 'of', 'upgrading', 'notes.', 'these', 'files', 'can', 'also', 'be', 'found', 'in', 'the', 'release', 'archive.for', 'source', 'downloads', 'of', 'php', '7.2.0', 'release', 'candidate', '3', 'please', 'visit', 'thedownloadpage,', 'windows', 'sources', 'and', 'binaries', 'can', 'be', 'found', 'atwindows.php.net/qa/.the', 'next', 'release', 'candidate', 'will', 'be', 'announced', 'on', 'the', '12th', 'of', 'october.', 'you', 'can', 'also', 'read', 'the', 'full', 'list', 'of', 'planned', 'releases', 'onour', 'wiki.thank', 'you', 'for', 'helping', 'us', 'make', 'php', 'better.31', 'aug', '2017php', '7.2.0', 'release', 'candidate', '1', 'releasedthe', 'php', 'development', 'team', 'announces', 'the', 'immediate', 'availability', 'of', 'php', '7.2.0', 'release', 'candidate', '1.', 'this', 'release', 'is', 'the', 'first', 'release', 'candidate', 'for', '7.2.0.', 'all', 'users', 'of', 'php', 'are', 'encouraged', 'to', 'test', 'this', 'version', 'carefully,', 'and', 'report', 'any', 'bugs', 'and', 'incompatibilities', 'in', 'thebug', 'tracking', 'system.this', 'is', 'a', 'development', 'preview', '-', 'do', 'not', 'use', 'it', 'in', 'production!for', 'more', 'information', 'on', 'the', 'new', 'features', 'and', 'other', 'changes,', 'you', 'can', 'read', 'thenewsfile,', 'or', 'theupgradingfile', 'for', 'a', 'complete', 'list', 'of', 'upgrading', 'notes.', 'these', 'files', 'can', 'also', 'be', 'found', 'in', 'the', 'release', 'archive.for', 'source', 'downloads', 'of', 'php', '7.2.0', 'release', 'candidate', '1', 'please', 'visit', 'thedownloadpage,', 'windows', 'sources', 'and', 'binaries', 'can', 'be', 'found', 'atwindows.php.net/qa/.the', 'second', 'release', 'candidate', 'will', 'be', 'released', 'on', 'the', '14th', 'of', 'september.', 'you', 'can', 'also', 'read', 'the', 'full', 'list', 'of', 'planned', 'releases', 'onour', 'wiki.thank', 'you', 'for', 'helping', 'us', 'make', 'php', 'better.17', 'aug', '2017php', '7.2.0', 'beta', '3', 'releasedthe', 'php', 'development', 'team', 'announces', 'the', 'immediate', 'availability', 'of', 'php', '7.2.0', 'beta', '3.', 'this', 'release', 'is', 'the', 'third', 'and', 'final', 'beta', 'for', '7.2.0.', 'all', 'users', 'of', 'php', 'are', 'encouraged', 'to', 'test', 'this', 'version', 'carefully,', 'and', 'report', 'any', 'bugs', 'and', 'incompatibilities', 'in', 'thebug', 'tracking', 'system.this', 'is', 'a', 'development', 'preview', '-', 'do', 'not', 'use', 'it', 'in', 'production!for', 'more', 'information', 'on', 'the', 'new', 'features', 'and', 'other', 'changes,', 'you', 'can', 'read', 'thenewsfile,', 'or', 'theupgradingfile', 'for', 'a', 'complete', 'list', 'of', 'upgrading', 'notes.', 'these', 'files', 'can', 'also', 'be', 'found', 'in', 'the', 'release', 'archive.for', 'source', 'downloads', 'of', 'php', '7.2.0', 'beta', '3', 'please', 'visit', 'thedownloadpage,', 'windows', 'sources', 'and', 'binaries', 'can', 'be', 'found', 'atwindows.php.net/qa/.the', 'first', 'release', 'candidate', 'will', 'be', 'released', 'on', 'the', '31th', 'of', 'august.', 'you', 'can', 'also', 'read', 'the', 'full', 'list', 'of', 'planned', 'releases', 'onour', 'wiki.thank', 'you', 'for', 'helping', 'us', 'make', 'php', 'better.06', 'jul', '2017php', '7.2.0', 'alpha', '3', 'releasedthe', 'php', 'development', 'team', 'announces', 'the', 'immediate', 'availability', 'of', 'php', '7.2.0', 'alpha', '3.', 'this', 'release', 'contains', 'fixes', 'and', 'improvements', 'relative', 'to', 'alpha', '2.', 'all', 'users', 'of', 'php', 'are', 'encouraged', 'to', 'test', 'this', 'version', 'carefully,', 'and', 'report', 'any', 'bugs', 'and', 'incompatibilities', 'in', 'thebug', 'tracking', 'system.this', 'is', 'a', 'development', 'preview', '-', 'do', 'not', 'use', 'it', 'in', 'production!for', 'information', 'on', 'new', 'features', 'and', 'other', 'changes,', 'you', 'can', 'read', 'thenewsfile,', 'or', 'theupgradingfile', 'for', 'a', 'complete', 'list', 'of', 'upgrading', 'notes.', 'these', 'files', 'can', 'also', 'be', 'found', 'in', 'the', 'release', 'archive.for', 'source', 'downloads', 'of', 'php', '7.2.0', 'alpha', '3', 'please', 'visit', 'thedownloadpage,', 'windows', 'sources', 'and', 'binaries', 'can', 'be', 'found', 'onwindows.php.net/qa/.the', 'first', 'beta', 'will', 'be', 'released', 'on', 'the', '20th', 'of', 'july.', 'you', 'can', 'also', 'read', 'the', 'full', 'list', 'of', 'planned', 'releases', 'on', 'ourwiki.thank', 'you', 'for', 'helping', 'us', 'make', 'php', 'better.older', 'news', 'entriesupcoming', 'conferencesinternational', 'php', 'conference', '2019', '-', 'spring', 'editionlonghorn', 'php', '2019', 'cfp', 'is', 'open!php[world]', '2018symfonycon', 'lisbon', '2018user', 'group', 'eventsspecial', 'thankssocial', 'media@official_phpcopyright', '©', '2001-2018', 'the', 'php', 'groupmy', 'php.netcontactother', 'php.net', 'sitesmirror', 'sitesprivacy', 'policy']\n"
     ]
    }
   ],
   "source": [
    "tokens = [t for t in text.split()]\n",
    "\n",
    "tokens = [token.lower() for token in tokens]\n",
    " \n",
    "print(tokens)"
   ]
  },
  {
   "cell_type": "markdown",
   "metadata": {},
   "source": [
    "# Count Word Frequency\n",
    "\n",
    "Let’s calculate the frequency distribution of those tokens using Python NLTK. For this, we can use a function in NLTK called ``FreqDist()``:"
   ]
  },
  {
   "cell_type": "code",
   "execution_count": 6,
   "metadata": {},
   "outputs": [
    {
     "data": {
      "text/html": [
       "<div>\n",
       "<style scoped>\n",
       "    .dataframe tbody tr th:only-of-type {\n",
       "        vertical-align: middle;\n",
       "    }\n",
       "\n",
       "    .dataframe tbody tr th {\n",
       "        vertical-align: top;\n",
       "    }\n",
       "\n",
       "    .dataframe thead th {\n",
       "        text-align: right;\n",
       "    }\n",
       "</style>\n",
       "<table border=\"1\" class=\"dataframe\">\n",
       "  <thead>\n",
       "    <tr style=\"text-align: right;\">\n",
       "      <th></th>\n",
       "      <th>freq</th>\n",
       "    </tr>\n",
       "  </thead>\n",
       "  <tbody>\n",
       "    <tr>\n",
       "      <th>php</th>\n",
       "      <td>116</td>\n",
       "    </tr>\n",
       "    <tr>\n",
       "      <th>the</th>\n",
       "      <td>113</td>\n",
       "    </tr>\n",
       "    <tr>\n",
       "      <th>of</th>\n",
       "      <td>89</td>\n",
       "    </tr>\n",
       "    <tr>\n",
       "      <th>release</th>\n",
       "      <td>73</td>\n",
       "    </tr>\n",
       "    <tr>\n",
       "      <th>in</th>\n",
       "      <td>71</td>\n",
       "    </tr>\n",
       "    <tr>\n",
       "      <th>and</th>\n",
       "      <td>68</td>\n",
       "    </tr>\n",
       "    <tr>\n",
       "      <th>can</th>\n",
       "      <td>66</td>\n",
       "    </tr>\n",
       "    <tr>\n",
       "      <th>be</th>\n",
       "      <td>61</td>\n",
       "    </tr>\n",
       "    <tr>\n",
       "      <th>is</th>\n",
       "      <td>56</td>\n",
       "    </tr>\n",
       "    <tr>\n",
       "      <th>found</th>\n",
       "      <td>56</td>\n",
       "    </tr>\n",
       "  </tbody>\n",
       "</table>\n",
       "</div>"
      ],
      "text/plain": [
       "         freq\n",
       "php       116\n",
       "the       113\n",
       "of         89\n",
       "release    73\n",
       "in         71\n",
       "and        68\n",
       "can        66\n",
       "be         61\n",
       "is         56\n",
       "found      56"
      ]
     },
     "execution_count": 6,
     "metadata": {},
     "output_type": "execute_result"
    }
   ],
   "source": [
    "freq = nltk.FreqDist(tokens)\n",
    "     \n",
    "import pandas as pd\n",
    "\n",
    "df = pd.DataFrame.from_dict(freq, orient='index')\n",
    "df = df.rename(columns={0:'freq'})\n",
    "result = df.sort_values(['freq'], ascending=False)\n",
    "\n",
    "result.head(10)"
   ]
  },
  {
   "cell_type": "markdown",
   "metadata": {},
   "source": [
    "According to the sorted result, you’ll find that the most frequent token is PHP. You can plot a graph for those tokens using plot function like this:"
   ]
  },
  {
   "cell_type": "code",
   "execution_count": 22,
   "metadata": {},
   "outputs": [
    {
     "data": {
      "image/png": "[encoded data removed]",
      "text/plain": [
       "<Figure size 1080x576 with 1 Axes>"
      ]
     },
     "metadata": {},
     "output_type": "display_data"
    }
   ],
   "source": [
    "import matplotlib.pyplot as plt\n",
    "plt.figure(figsize=(15,8))\n",
    "freq.plot(20, cumulative=False)\n",
    "plt.show()"
   ]
  },
  {
   "cell_type": "markdown",
   "metadata": {},
   "source": [
    "From the graph, this article is talking about PHP. However, there are some words like The, Of, a, an, and so on which are called stop words. Indeed, stop words should be removed to prevent them from affecting the results.\n",
    "\n",
    "# Remove Stop Words Using NLTK\n",
    "\n",
    "NLTK is shipped with stop words lists for most languages. To get English stop words, you should import stopwords.\n",
    "\n",
    "After, you can modify the code and clean the tokens before plotting the graph. First, we will make a copy of the list, then we will iterate over the tokens and remove the stop words:"
   ]
  },
  {
   "cell_type": "code",
   "execution_count": 8,
   "metadata": {},
   "outputs": [
    {
     "data": {
      "text/html": [
       "<div>\n",
       "<style scoped>\n",
       "    .dataframe tbody tr th:only-of-type {\n",
       "        vertical-align: middle;\n",
       "    }\n",
       "\n",
       "    .dataframe tbody tr th {\n",
       "        vertical-align: top;\n",
       "    }\n",
       "\n",
       "    .dataframe thead th {\n",
       "        text-align: right;\n",
       "    }\n",
       "</style>\n",
       "<table border=\"1\" class=\"dataframe\">\n",
       "  <thead>\n",
       "    <tr style=\"text-align: right;\">\n",
       "      <th></th>\n",
       "      <th>freq</th>\n",
       "    </tr>\n",
       "  </thead>\n",
       "  <tbody>\n",
       "    <tr>\n",
       "      <th>php</th>\n",
       "      <td>116</td>\n",
       "    </tr>\n",
       "    <tr>\n",
       "      <th>release</th>\n",
       "      <td>73</td>\n",
       "    </tr>\n",
       "    <tr>\n",
       "      <th>found</th>\n",
       "      <td>56</td>\n",
       "    </tr>\n",
       "    <tr>\n",
       "      <th>source</th>\n",
       "      <td>29</td>\n",
       "    </tr>\n",
       "    <tr>\n",
       "      <th>list</th>\n",
       "      <td>27</td>\n",
       "    </tr>\n",
       "    <tr>\n",
       "      <th>development</th>\n",
       "      <td>26</td>\n",
       "    </tr>\n",
       "    <tr>\n",
       "      <th>please</th>\n",
       "      <td>22</td>\n",
       "    </tr>\n",
       "    <tr>\n",
       "      <th>downloads</th>\n",
       "      <td>22</td>\n",
       "    </tr>\n",
       "    <tr>\n",
       "      <th>visit</th>\n",
       "      <td>22</td>\n",
       "    </tr>\n",
       "    <tr>\n",
       "      <th>team</th>\n",
       "      <td>22</td>\n",
       "    </tr>\n",
       "  </tbody>\n",
       "</table>\n",
       "</div>"
      ],
      "text/plain": [
       "             freq\n",
       "php           116\n",
       "release        73\n",
       "found          56\n",
       "source         29\n",
       "list           27\n",
       "development    26\n",
       "please         22\n",
       "downloads      22\n",
       "visit          22\n",
       "team           22"
      ]
     },
     "execution_count": 8,
     "metadata": {},
     "output_type": "execute_result"
    }
   ],
   "source": [
    "from nltk.corpus import stopwords\n",
    "\n",
    "clean_tokens = tokens.copy()\n",
    "\n",
    "clean_tokens = [token.lower() for token in clean_tokens]\n",
    "\n",
    "for token in tokens:\n",
    "    if token in stopwords.words('english'):\n",
    "        clean_tokens.remove(token)\n",
    " \n",
    "clean_freq = nltk.FreqDist(clean_tokens)\n",
    "\n",
    "clean_df = pd.DataFrame.from_dict(clean_freq, orient='index')\n",
    "clean_df = clean_df.rename(columns={0:'freq'})\n",
    "clean_result = clean_df.sort_values(['freq'], ascending=False)\n",
    "\n",
    "clean_result.head(10)"
   ]
  },
  {
   "cell_type": "markdown",
   "metadata": {},
   "source": [
    "If you check the graph now, it’s better than before since no stop words on the count."
   ]
  },
  {
   "cell_type": "code",
   "execution_count": 9,
   "metadata": {},
   "outputs": [
    {
     "data": {
      "image/png": "[encoded data removed]",
      "text/plain": [
       "<Figure size 1080x576 with 1 Axes>"
      ]
     },
     "metadata": {},
     "output_type": "display_data"
    }
   ],
   "source": [
    "plt.figure(figsize=(15,8))\n",
    "clean_freq.plot(20, cumulative=False)\n",
    "plt.show()"
   ]
  },
  {
   "cell_type": "markdown",
   "metadata": {},
   "source": [
    "# Tokenize Text Using NLTK\n",
    "\n",
    "We saw how to split the text into tokens using split function, now we will see how to tokenize the text using NLTK.\n",
    "\n",
    "Tokenizing text is important since text can’t be processed without tokenization. Tokenization process means splitting bigger parts to small parts.\n",
    "\n",
    "You can tokenize paragraphs to sentences and tokenize sentences to words according to your needs. NLTK is shipped with sentence tokenizer and word tokenizer.\n",
    "\n",
    "Let’s assume that we have a sample text like into the following mytext variable. To tokenize this text to sentences, we will use sentence tokenizer:"
   ]
  },
  {
   "cell_type": "code",
   "execution_count": 10,
   "metadata": {},
   "outputs": [
    {
     "name": "stdout",
     "output_type": "stream",
     "text": [
      "['Hello Adam, how are you?', 'I hope everything is going well.', 'Today is a good day, see you dude.']\n"
     ]
    }
   ],
   "source": [
    "from nltk.tokenize import sent_tokenize\n",
    " \n",
    "mytext = \"Hello Adam, how are you? I hope everything is going well. Today is a good day, see you dude.\"\n",
    " \n",
    "print(sent_tokenize(mytext))"
   ]
  },
  {
   "cell_type": "markdown",
   "metadata": {},
   "source": [
    "You may say that this is an easy job, I don’t need to use NLTK tokenization, and I can split sentences using regular expressions since every sentence precedes by punctuation and space. Now, take a look at the following text in which the word Mr. is one word by itself. Let’s try NLTK:"
   ]
  },
  {
   "cell_type": "code",
   "execution_count": 11,
   "metadata": {},
   "outputs": [
    {
     "name": "stdout",
     "output_type": "stream",
     "text": [
      "['Hello Mr. Adam, how are you?', 'I hope everything is going well.', 'Today is a good day, see you dude.']\n"
     ]
    }
   ],
   "source": [
    "mytext = \"Hello Mr. Adam, how are you? I hope everything is going well. Today is a good day, see you dude.\"\n",
    " \n",
    "print(sent_tokenize(mytext))"
   ]
  },
  {
   "cell_type": "markdown",
   "metadata": {},
   "source": [
    "The word Mr. is one word as expected. NLTK uses PunktSentenceTokenizer which is a part of nltk.tokenize.punkt module. This tokenizer trained well to work with many languages."
   ]
  },
  {
   "cell_type": "markdown",
   "metadata": {},
   "source": [
    "# Tokenize non-English Languages Text\n",
    "To tokenize other languages, you should specify the language like this:"
   ]
  },
  {
   "cell_type": "code",
   "execution_count": 12,
   "metadata": {},
   "outputs": [
    {
     "name": "stdout",
     "output_type": "stream",
     "text": [
      "['Bonjour M. Adam, comment allez-vous?', \"J'espère que tout va bien.\", \"Aujourd'hui est un bon jour.\"]\n"
     ]
    }
   ],
   "source": [
    "mytext = \"Bonjour M. Adam, comment allez-vous? J'espère que tout va bien. Aujourd'hui est un bon jour.\"\n",
    " \n",
    "print(sent_tokenize(mytext,\"french\"))"
   ]
  },
  {
   "cell_type": "markdown",
   "metadata": {},
   "source": [
    "# Get Synonyms from WordNet\n",
    "\n",
    "If you remember we installed NLTK packages using nltk.download(). One of the packages was WordNet. WordNet is a database which is built for natural language processing. It includes groups of synonyms and a brief definition. You can get these definitions and examples for a given word like this:"
   ]
  },
  {
   "cell_type": "code",
   "execution_count": 13,
   "metadata": {},
   "outputs": [
    {
     "name": "stdout",
     "output_type": "stream",
     "text": [
      "a symptom of some physical hurt or disorder\n",
      "['the patient developed severe pain and distension']\n"
     ]
    }
   ],
   "source": [
    "from nltk.corpus import wordnet\n",
    " \n",
    "syn = wordnet.synsets(\"pain\")\n",
    " \n",
    "print(syn[0].definition())\n",
    " \n",
    "print(syn[0].examples())"
   ]
  },
  {
   "cell_type": "markdown",
   "metadata": {},
   "source": [
    "WordNet includes a lot of definitions:"
   ]
  },
  {
   "cell_type": "code",
   "execution_count": 14,
   "metadata": {},
   "outputs": [
    {
     "name": "stdout",
     "output_type": "stream",
     "text": [
      "the branch of information science that deals with natural language information\n",
      "large Old World boas\n"
     ]
    }
   ],
   "source": [
    "syn = wordnet.synsets(\"NLP\")\n",
    " \n",
    "print(syn[0].definition())\n",
    " \n",
    "syn = wordnet.synsets(\"Python\")\n",
    " \n",
    "print(syn[0].definition())"
   ]
  },
  {
   "cell_type": "markdown",
   "metadata": {},
   "source": [
    "You can use WordNet to get synonymous words like this:"
   ]
  },
  {
   "cell_type": "code",
   "execution_count": 15,
   "metadata": {},
   "outputs": [
    {
     "name": "stdout",
     "output_type": "stream",
     "text": [
      "['computer', 'computing_machine', 'computing_device', 'data_processor', 'electronic_computer', 'information_processing_system', 'calculator', 'reckoner', 'figurer', 'estimator', 'computer']\n"
     ]
    }
   ],
   "source": [
    "synonyms = []\n",
    " \n",
    "for syn in wordnet.synsets('Computer'):\n",
    "    for lemma in syn.lemmas():\n",
    "        synonyms.append(lemma.name())\n",
    " \n",
    "print(synonyms)"
   ]
  },
  {
   "cell_type": "markdown",
   "metadata": {},
   "source": [
    "# Get Antonyms from WordNet\n",
    "\n",
    "You can get the antonyms words with the same way, all you have to do is to check the lemmas before adding them to the array if it’s an antonym or not."
   ]
  },
  {
   "cell_type": "code",
   "execution_count": 16,
   "metadata": {},
   "outputs": [
    {
     "name": "stdout",
     "output_type": "stream",
     "text": [
      "['large', 'big', 'big']\n"
     ]
    }
   ],
   "source": [
    "antonyms = []\n",
    " \n",
    "for syn in wordnet.synsets(\"small\"):\n",
    "    for lemma in syn.lemmas():\n",
    "        if lemma.antonyms():\n",
    "            antonyms.append(lemma.antonyms()[0].name())\n",
    "            \n",
    "print(antonyms)"
   ]
  },
  {
   "cell_type": "markdown",
   "metadata": {},
   "source": [
    "# NLTK Word Stemming\n",
    "\n",
    "Word stemming means removing affixes from words and return the root word. Ex: The stem of the word working => work.\n",
    "\n",
    "Search engines use this technique when indexing pages, so many people write different versions for the same word and all of them are stemmed to the root word. There are many algorithms for stemming, but the most used algorithm is Porter stemming algorithm.\n",
    "\n",
    "NLTK has a class called PorterStemmer which uses Porter stemming algorithm."
   ]
  },
  {
   "cell_type": "code",
   "execution_count": 17,
   "metadata": {},
   "outputs": [
    {
     "name": "stdout",
     "output_type": "stream",
     "text": [
      "work\n"
     ]
    }
   ],
   "source": [
    "from nltk.stem import PorterStemmer\n",
    " \n",
    "stemmer = PorterStemmer()\n",
    " \n",
    "print(stemmer.stem('working'))"
   ]
  },
  {
   "cell_type": "markdown",
   "metadata": {},
   "source": [
    "# Lemmatizing Words Using WordNet\n",
    "\n",
    "Word lemmatizing is similar to stemming, but the difference is the result of lemmatizing is a real word.\n",
    "\n",
    "Unlike stemming, when you try to stem some words, it will result in something like this:"
   ]
  },
  {
   "cell_type": "code",
   "execution_count": 18,
   "metadata": {},
   "outputs": [
    {
     "name": "stdout",
     "output_type": "stream",
     "text": [
      "increas\n"
     ]
    }
   ],
   "source": [
    "print(stemmer.stem('increases'))"
   ]
  },
  {
   "cell_type": "markdown",
   "metadata": {},
   "source": [
    "If we try to lemmatize the same word using NLTK WordNet, the result is correct:"
   ]
  },
  {
   "cell_type": "code",
   "execution_count": 19,
   "metadata": {},
   "outputs": [
    {
     "name": "stdout",
     "output_type": "stream",
     "text": [
      "increase\n"
     ]
    }
   ],
   "source": [
    "from nltk.stem import WordNetLemmatizer\n",
    "\n",
    "lemmatizer = WordNetLemmatizer()\n",
    " \n",
    "print(lemmatizer.lemmatize('increases'))"
   ]
  },
  {
   "cell_type": "markdown",
   "metadata": {},
   "source": [
    "The result might end up with a synonym or a different word with the same meaning.\n",
    "\n",
    "Sometimes, if you try to lemmatize a word like the word playing, it will end up with the same word.\n",
    "\n",
    "This is because the default part of speech is nouns. To get verbs, you should specify it like this:"
   ]
  },
  {
   "cell_type": "code",
   "execution_count": 20,
   "metadata": {},
   "outputs": [
    {
     "name": "stdout",
     "output_type": "stream",
     "text": [
      "play\n",
      "add\n"
     ]
    }
   ],
   "source": [
    "print(lemmatizer.lemmatize('playing', pos=\"v\"))\n",
    "print(lemmatizer.lemmatize('adding', pos=\"v\"))"
   ]
  },
  {
   "cell_type": "markdown",
   "metadata": {},
   "source": [
    "# Stemming and Lemmatization Difference\n",
    "\n",
    "Let’s try stemming and lemmatization for some words:"
   ]
  },
  {
   "cell_type": "code",
   "execution_count": 21,
   "metadata": {},
   "outputs": [
    {
     "name": "stdout",
     "output_type": "stream",
     "text": [
      "stone\n",
      "speak\n",
      "bedroom\n",
      "joke\n",
      "lisa\n",
      "purpl\n",
      "----------------------\n",
      "stone\n",
      "speaking\n",
      "bedroom\n",
      "joke\n",
      "lisa\n",
      "purple\n"
     ]
    }
   ],
   "source": [
    "print(stemmer.stem('stones'))\n",
    " \n",
    "print(stemmer.stem('speaking'))\n",
    " \n",
    "print(stemmer.stem('bedroom'))\n",
    " \n",
    "print(stemmer.stem('jokes'))\n",
    " \n",
    "print(stemmer.stem('lisa'))\n",
    " \n",
    "print(stemmer.stem('purple'))\n",
    " \n",
    "print('----------------------')\n",
    " \n",
    "print(lemmatizer.lemmatize('stones'))\n",
    " \n",
    "print(lemmatizer.lemmatize('speaking'))\n",
    " \n",
    "print(lemmatizer.lemmatize('bedroom'))\n",
    " \n",
    "print(lemmatizer.lemmatize('jokes'))\n",
    " \n",
    "print(lemmatizer.lemmatize('lisa'))\n",
    " \n",
    "print(lemmatizer.lemmatize('purple'))"
   ]
  },
  {
   "cell_type": "markdown",
   "metadata": {},
   "source": [
    "Stemming works on words without knowing its context and that’s why stemming has lower accuracy and faster than lemmatization. It seems that lemmatizing is better than stemming. Word lemmatizing returns a real word even if it’s not the same word, it could be a synonym, but at least it’s a real word."
   ]
  }
 ],
 "metadata": {
  "kernelspec": {
   "display_name": "Python 3",
   "language": "python",
   "name": "python3"
  },
  "language_info": {
   "codemirror_mode": {
    "name": "ipython",
    "version": 3
   },
   "file_extension": ".py",
   "mimetype": "text/x-python",
   "name": "python",
   "nbconvert_exporter": "python",
   "pygments_lexer": "ipython3",
   "version": "3.6.6"
  }
 },
 "nbformat": 4,
 "nbformat_minor": 2
}
